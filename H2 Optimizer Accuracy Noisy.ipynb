{
 "cells": [
  {
   "cell_type": "code",
   "execution_count": 1,
   "id": "374b58b1-9ddb-4687-badb-f13a3772553b",
   "metadata": {
    "tags": []
   },
   "outputs": [],
   "source": [
    "# Importing standard Qiskit libraries\n",
    "from qiskit import QuantumCircuit, transpile\n",
    "from qiskit.tools.jupyter import *\n",
    "from qiskit.visualization import *\n",
    "from ibm_quantum_widgets import *\n",
    "\n",
    "# qiskit-ibmq-provider has been deprecated.\n",
    "# Please see the Migration Guides in https://ibm.biz/provider_migration_guide for more detail.\n",
    "from qiskit_ibm_runtime import QiskitRuntimeService, Sampler, Estimator, Session, Options\n",
    "\n",
    "# Loading your IBM Quantum account(s)\n",
    "service = QiskitRuntimeService(channel=\"ibm_quantum\")\n",
    "\n",
    "# Invoke a primitive. For more details see https://qiskit.org/documentation/partners/qiskit_ibm_runtime/tutorials.html\n",
    "# result = Sampler(\"ibmq_qasm_simulator\").run(circuits).result()\n",
    "import qiskit_nature\n",
    "from qiskit.algorithms.minimum_eigensolvers import NumPyMinimumEigensolver, VQE\n",
    "from qiskit_nature.second_q.transformers import FreezeCoreTransformer\n",
    "from qiskit_nature.second_q.formats.molecule_info import MoleculeInfo\n",
    "from qiskit_nature.second_q.mappers import ParityMapper\n",
    "from qiskit_nature.second_q.circuit.library import UCCSD, HartreeFock\n",
    "from qiskit_nature.second_q.mappers import JordanWignerMapper\n",
    "from qiskit_nature.units import DistanceUnit\n",
    "qiskit_nature.settings.use_pauli_sum_op = False\n",
    "from qiskit_nature.second_q.drivers import PySCFDriver\n",
    "import matplotlib.pyplot as plt\n",
    "from qiskit.circuit.library import EfficientSU2\n",
    "import numpy as np\n",
    "from qiskit.algorithms.optimizers import COBYLA, L_BFGS_B, SLSQP,SPSA,NFT\n",
    "from qiskit_aer.primitives import Estimator\n",
    "#from qiskit.chemistry.drivers import PySCFDriver, UnitsType, Molecule\n",
    "from qiskit.circuit.library import TwoLocal\n",
    "import numpy as np\n",
    "\n",
    "\n",
    "from qiskit import Aer\n",
    "from qiskit.opflow import X, Z, I\n",
    "from qiskit.utils import QuantumInstance, algorithm_globals\n",
    "from qiskit.algorithms.optimizers import COBYLA, L_BFGS_B, SLSQP,SPSA,NFT\n",
    "from qiskit.circuit.library import TwoLocal"
   ]
  },
  {
   "cell_type": "code",
   "execution_count": 4,
   "id": "e6d1d06a-ac69-40d9-b6c0-436ad4aece6d",
   "metadata": {
    "tags": []
   },
   "outputs": [
    {
     "name": "stdout",
     "output_type": "stream",
     "text": [
      "NoiseModel:\n",
      "  Basis gates: ['cx', 'id', 'rz', 'sx', 'x']\n",
      "  Instructions with noise: ['id', 'sx', 'x', 'cx', 'measure']\n",
      "  Qubits with noise: [0, 1, 2, 3, 4]\n",
      "  Specific qubit errors: [('id', (0,)), ('id', (1,)), ('id', (2,)), ('id', (3,)), ('id', (4,)), ('sx', (0,)), ('sx', (1,)), ('sx', (2,)), ('sx', (3,)), ('sx', (4,)), ('x', (0,)), ('x', (1,)), ('x', (2,)), ('x', (3,)), ('x', (4,)), ('cx', (3, 4)), ('cx', (4, 3)), ('cx', (3, 1)), ('cx', (1, 3)), ('cx', (1, 2)), ('cx', (2, 1)), ('cx', (0, 1)), ('cx', (1, 0)), ('measure', (0,)), ('measure', (1,)), ('measure', (2,)), ('measure', (3,)), ('measure', (4,))]\n"
     ]
    }
   ],
   "source": [
    "from qiskit_aer.noise import NoiseModel\n",
    "from qiskit.providers.fake_provider import FakeVigo\n",
    "\n",
    "# fake providers contain data from real IBM Quantum devices stored in Qiskit,\n",
    "# and are useful for extracting realistic noise models.\n",
    "device = FakeVigo()\n",
    "\n",
    "coupling_map = device.configuration().coupling_map\n",
    "noise_model = NoiseModel.from_backend(device)\n",
    "seed = 170\n",
    "print(noise_model)"
   ]
  },
  {
   "cell_type": "code",
   "execution_count": 5,
   "id": "f052c434-7c11-4ef0-be56-9e368dcb1881",
   "metadata": {
    "tags": []
   },
   "outputs": [],
   "source": [
    "def get_qubit_op_jw(dist):\n",
    "    # Define Molecule\n",
    "    driver = PySCFDriver(\n",
    "    atom=\"H 0 0 0; H 0 0 \"+str(dist),\n",
    "    basis=\"sto3g\",\n",
    "    charge=0,\n",
    "    spin=0,\n",
    "    unit=DistanceUnit.ANGSTROM,\n",
    "    )\n",
    "    # Get properties\n",
    "    problem = driver.run()\n",
    "\n",
    "    num_particles = problem.num_particles\n",
    "    num_spatial_orbitals = problem.num_spatial_orbitals\n",
    "    \n",
    "    mapper = ParityMapper()\n",
    "    #tapered_mapper = problem.get_tapered_mapper(mapper)\n",
    "    qubit_op = mapper.map(problem.second_q_ops()[0])\n",
    "    return qubit_op, num_particles, num_spatial_orbitals, problem, mapper"
   ]
  },
  {
   "cell_type": "code",
   "execution_count": 6,
   "id": "6ffe232e-a890-49ab-aa3c-25daca524957",
   "metadata": {
    "tags": []
   },
   "outputs": [],
   "source": [
    "def exact_solver_jw(qubit_op, problem):\n",
    "    sol = NumPyMinimumEigensolver().compute_minimum_eigenvalue(qubit_op)\n",
    "    result = problem.interpret(sol)\n",
    "    return result"
   ]
  },
  {
   "cell_type": "code",
   "execution_count": 7,
   "id": "8d824a39-5ae0-4c1f-a47d-6d146c107ec2",
   "metadata": {
    "tags": []
   },
   "outputs": [
    {
     "name": "stdout",
     "output_type": "stream",
     "text": [
      "Interatomic Distance: 0.1 VQE Result: 3.63404 Exact Energy: 2.70996\n",
      "Interatomic Distance: 0.2 VQE Result: 1.00318 Exact Energy: 0.15748\n",
      "Interatomic Distance: 0.3 VQE Result: 0.14145 Exact Energy: -0.60180\n",
      "Interatomic Distance: 0.4 VQE Result: -0.27917 Exact Energy: -0.91415\n",
      "Interatomic Distance: 0.5 VQE Result: -0.51086 Exact Energy: -1.05516\n",
      "Interatomic Distance: 0.6 VQE Result: -0.64993 Exact Energy: -1.11629\n",
      "Interatomic Distance: 0.7 VQE Result: -0.73410 Exact Energy: -1.13619\n",
      "Interatomic Distance: 0.8 VQE Result: -0.78652 Exact Energy: -1.13415\n",
      "Interatomic Distance: 0.9 VQE Result: -0.81379 Exact Energy: -1.12056\n",
      "Interatomic Distance: 1.0 VQE Result: -0.83087 Exact Energy: -1.10115\n",
      "Interatomic Distance: 1.1 VQE Result: -0.84042 Exact Energy: -1.07919\n",
      "Interatomic Distance: 1.2 VQE Result: -0.80848 Exact Energy: -1.05674\n",
      "Interatomic Distance: 1.3 VQE Result: -0.82880 Exact Energy: -1.03519\n",
      "Interatomic Distance: 1.4 VQE Result: -0.82308 Exact Energy: -1.01547\n",
      "Interatomic Distance: 1.5 VQE Result: -0.81676 Exact Energy: -0.99815\n",
      "Interatomic Distance: 1.6 VQE Result: -0.80150 Exact Energy: -0.98347\n",
      "Interatomic Distance: 1.7 VQE Result: -0.80683 Exact Energy: -0.97143\n",
      "Interatomic Distance: 1.8 VQE Result: -0.79473 Exact Energy: -0.96182\n",
      "Interatomic Distance: 1.9 VQE Result: -0.79689 Exact Energy: -0.95434\n",
      "Interatomic Distance: 2.0 VQE Result: -0.79095 Exact Energy: -0.94864\n",
      "Interatomic Distance: 2.1 VQE Result: -0.78277 Exact Energy: -0.94437\n",
      "Interatomic Distance: 2.2 VQE Result: -0.79071 Exact Energy: -0.94122\n",
      "Interatomic Distance: 2.3 VQE Result: -0.78733 Exact Energy: -0.93892\n",
      "Interatomic Distance: 2.4 VQE Result: -0.78275 Exact Energy: -0.93725\n",
      "Interatomic Distance: 2.5 VQE Result: -0.78054 Exact Energy: -0.93605\n",
      "Interatomic Distance: 2.6 VQE Result: -0.77945 Exact Energy: -0.93520\n",
      "Interatomic Distance: 2.7 VQE Result: -0.77337 Exact Energy: -0.93458\n",
      "Interatomic Distance: 2.8 VQE Result: -0.76926 Exact Energy: -0.93415\n",
      "Interatomic Distance: 2.9 VQE Result: -0.77717 Exact Energy: -0.93385\n",
      "Interatomic Distance: 3.0 VQE Result: -0.78271 Exact Energy: -0.93363\n",
      "Interatomic Distance: 3.1 VQE Result: -0.76038 Exact Energy: -0.93348\n",
      "Interatomic Distance: 3.2 VQE Result: -0.77375 Exact Energy: -0.93338\n",
      "Interatomic Distance: 3.3 VQE Result: -0.77223 Exact Energy: -0.93331\n",
      "Interatomic Distance: 3.4 VQE Result: -0.77898 Exact Energy: -0.93326\n",
      "Interatomic Distance: 3.5 VQE Result: -0.77793 Exact Energy: -0.93323\n",
      "Interatomic Distance: 3.6 VQE Result: -0.77816 Exact Energy: -0.93321\n",
      "Interatomic Distance: 3.7 VQE Result: -0.77374 Exact Energy: -0.93319\n",
      "Interatomic Distance: 3.8 VQE Result: -0.75967 Exact Energy: -0.93318\n",
      "Interatomic Distance: 3.9 VQE Result: -0.76044 Exact Energy: -0.93318\n",
      "All energies have been calculated\n"
     ]
    }
   ],
   "source": [
    "distances = np.arange(0.1, 4.0, 0.1)\n",
    "exact_energies_cobyla = []\n",
    "vqe_energies_cobyla = []\n",
    "error_cobyla = []\n",
    "optimizer = COBYLA(maxiter=100)\n",
    "#noiseless_estimator = Estimator(approximation=True)\n",
    "noisy_estimator = Estimator(\n",
    "    backend_options={\n",
    "        \"method\": \"density_matrix\",\n",
    "        \"coupling_map\": coupling_map,\n",
    "        \"noise_model\": noise_model,\n",
    "    },\n",
    "    run_options={\"seed\": seed, \"shots\": 1024},\n",
    "    transpile_options={\"seed_transpiler\": seed},\n",
    ")\n",
    "for dist in distances:\n",
    "    (qubit_op, num_particles, num_spatial_orbitals, problem, mapper) = get_qubit_op_jw(\n",
    "        dist\n",
    "    )\n",
    "\n",
    "    result = exact_solver_jw(qubit_op, problem)\n",
    "    exact_energies_cobyla.append(result.total_energies[0].real)\n",
    "    init_state = HartreeFock(num_spatial_orbitals, num_particles, mapper)\n",
    "    var_form = UCCSD(\n",
    "        num_spatial_orbitals, num_particles, mapper, initial_state=init_state\n",
    "    )\n",
    "    vqe = VQE(\n",
    "        noisy_estimator,\n",
    "        var_form,\n",
    "        optimizer,\n",
    "        initial_point=[0] * var_form.num_parameters,\n",
    "    )\n",
    "    \n",
    "    vqe_calc = vqe.compute_minimum_eigenvalue(qubit_op)\n",
    "    vqe_result = problem.interpret(vqe_calc).total_energies[0].real\n",
    "    vqe_energies_cobyla.append(vqe_result)\n",
    "    error_cobyla.append(abs(vqe_result - (-1.13619)))\n",
    "    print(\n",
    "        f\"Interatomic Distance: {np.round(dist, 2)}\",\n",
    "        f\"VQE Result: {vqe_result:.5f}\",\n",
    "        f\"Exact Energy: {exact_energies_cobyla[-1]:.5f}\",)\n",
    "\n",
    "print(\"All energies have been calculated\")"
   ]
  },
  {
   "cell_type": "code",
   "execution_count": 8,
   "id": "54d6b10a-993e-4e10-a205-65f3d0694ae0",
   "metadata": {
    "tags": []
   },
   "outputs": [
    {
     "name": "stdout",
     "output_type": "stream",
     "text": [
      "Interatomic Distance: 0.1 VQE Result: 3.67258 Exact Energy: 2.70996\n",
      "Interatomic Distance: 0.2 VQE Result: 1.03761 Exact Energy: 0.15748\n",
      "Interatomic Distance: 0.3 VQE Result: 0.61865 Exact Energy: -0.60180\n",
      "Interatomic Distance: 0.4 VQE Result: -0.25321 Exact Energy: -0.91415\n",
      "Interatomic Distance: 0.5 VQE Result: -0.50578 Exact Energy: -1.05516\n",
      "Interatomic Distance: 0.6 VQE Result: -0.62411 Exact Energy: -1.11629\n",
      "Interatomic Distance: 0.7 VQE Result: -0.71308 Exact Energy: -1.13619\n",
      "Interatomic Distance: 0.8 VQE Result: -0.76466 Exact Energy: -1.13415\n",
      "Interatomic Distance: 0.9 VQE Result: -0.78428 Exact Energy: -1.12056\n",
      "Interatomic Distance: 1.0 VQE Result: -0.82679 Exact Energy: -1.10115\n",
      "Interatomic Distance: 1.1 VQE Result: -0.83206 Exact Energy: -1.07919\n",
      "Interatomic Distance: 1.2 VQE Result: -0.83341 Exact Energy: -1.05674\n",
      "Interatomic Distance: 1.3 VQE Result: -0.83099 Exact Energy: -1.03519\n",
      "Interatomic Distance: 1.4 VQE Result: -0.80400 Exact Energy: -1.01547\n",
      "Interatomic Distance: 1.5 VQE Result: -0.80378 Exact Energy: -0.99815\n",
      "Interatomic Distance: 1.6 VQE Result: -0.80776 Exact Energy: -0.98347\n",
      "Interatomic Distance: 1.7 VQE Result: -0.80713 Exact Energy: -0.97143\n",
      "Interatomic Distance: 1.8 VQE Result: -0.79772 Exact Energy: -0.96182\n",
      "Interatomic Distance: 1.9 VQE Result: -0.78307 Exact Energy: -0.95434\n",
      "Interatomic Distance: 2.0 VQE Result: -0.78939 Exact Energy: -0.94864\n",
      "Interatomic Distance: 2.1 VQE Result: -0.77974 Exact Energy: -0.94437\n",
      "Interatomic Distance: 2.2 VQE Result: -0.78356 Exact Energy: -0.94122\n",
      "Interatomic Distance: 2.3 VQE Result: -0.77615 Exact Energy: -0.93892\n",
      "Interatomic Distance: 2.4 VQE Result: -0.77320 Exact Energy: -0.93725\n",
      "Interatomic Distance: 2.5 VQE Result: -0.77606 Exact Energy: -0.93605\n",
      "Interatomic Distance: 2.6 VQE Result: -0.77065 Exact Energy: -0.93520\n",
      "Interatomic Distance: 2.7 VQE Result: -0.77464 Exact Energy: -0.93458\n",
      "Interatomic Distance: 2.8 VQE Result: -0.77938 Exact Energy: -0.93415\n",
      "Interatomic Distance: 2.9 VQE Result: -0.77422 Exact Energy: -0.93385\n",
      "Interatomic Distance: 3.0 VQE Result: -0.77905 Exact Energy: -0.93363\n",
      "Interatomic Distance: 3.1 VQE Result: -0.77795 Exact Energy: -0.93348\n",
      "Interatomic Distance: 3.2 VQE Result: -0.77144 Exact Energy: -0.93338\n",
      "Interatomic Distance: 3.3 VQE Result: -0.76951 Exact Energy: -0.93331\n",
      "Interatomic Distance: 3.4 VQE Result: -0.74133 Exact Energy: -0.93326\n",
      "Interatomic Distance: 3.5 VQE Result: -0.77417 Exact Energy: -0.93323\n",
      "Interatomic Distance: 3.6 VQE Result: -0.77142 Exact Energy: -0.93321\n",
      "Interatomic Distance: 3.7 VQE Result: -0.77278 Exact Energy: -0.93319\n",
      "Interatomic Distance: 3.8 VQE Result: -0.76849 Exact Energy: -0.93318\n",
      "Interatomic Distance: 3.9 VQE Result: -0.77192 Exact Energy: -0.93318\n",
      "All energies have been calculated\n"
     ]
    }
   ],
   "source": [
    "distances = np.arange(0.1, 4.0, 0.1)\n",
    "exact_energies_spsa = []\n",
    "vqe_energies_spsa = []\n",
    "error_spsa = []\n",
    "optimizer = SPSA(maxiter=100)\n",
    "#noiseless_estimator = Estimator(approximation=True)\n",
    "noisy_estimator = Estimator(\n",
    "    backend_options={\n",
    "        \"method\": \"density_matrix\",\n",
    "        \"coupling_map\": coupling_map,\n",
    "        \"noise_model\": noise_model,\n",
    "    },\n",
    "    run_options={\"seed\": seed, \"shots\": 1024},\n",
    "    transpile_options={\"seed_transpiler\": seed},\n",
    ")\n",
    "for dist in distances:\n",
    "    (qubit_op, num_particles, num_spatial_orbitals, problem, mapper) = get_qubit_op_jw(\n",
    "        dist\n",
    "    )\n",
    "\n",
    "    result = exact_solver_jw(qubit_op, problem)\n",
    "    exact_energies_spsa.append(result.total_energies[0].real)\n",
    "    init_state = HartreeFock(num_spatial_orbitals, num_particles, mapper)\n",
    "    var_form = UCCSD(\n",
    "        num_spatial_orbitals, num_particles, mapper, initial_state=init_state\n",
    "    )\n",
    "    vqe = VQE(\n",
    "        noisy_estimator,\n",
    "        var_form,\n",
    "        optimizer,\n",
    "        initial_point=[0] * var_form.num_parameters,\n",
    "    )\n",
    "    \n",
    "    vqe_calc = vqe.compute_minimum_eigenvalue(qubit_op)\n",
    "    vqe_result = problem.interpret(vqe_calc).total_energies[0].real\n",
    "    vqe_energies_spsa.append(vqe_result)\n",
    "    error_spsa.append(abs(vqe_result - (-1.13619)))\n",
    "    print(\n",
    "        f\"Interatomic Distance: {np.round(dist, 2)}\",\n",
    "        f\"VQE Result: {vqe_result:.5f}\",\n",
    "        f\"Exact Energy: {exact_energies_spsa[-1]:.5f}\",)\n",
    "\n",
    "print(\"All energies have been calculated\")"
   ]
  },
  {
   "cell_type": "code",
   "execution_count": 9,
   "id": "209f13c0-8a8f-4a61-a24a-cd13ed8a3d75",
   "metadata": {},
   "outputs": [
    {
     "name": "stdout",
     "output_type": "stream",
     "text": [
      "Interatomic Distance: 0.1 VQE Result: 3.65657 Exact Energy: 2.70996\n",
      "Interatomic Distance: 0.2 VQE Result: 1.02073 Exact Energy: 0.15748\n",
      "Interatomic Distance: 0.3 VQE Result: 0.15645 Exact Energy: -0.60180\n",
      "Interatomic Distance: 0.4 VQE Result: -0.25921 Exact Energy: -0.91415\n",
      "Interatomic Distance: 0.5 VQE Result: -0.49123 Exact Energy: -1.05516\n",
      "Interatomic Distance: 0.6 VQE Result: -0.62855 Exact Energy: -1.11629\n",
      "Interatomic Distance: 0.7 VQE Result: -0.71062 Exact Energy: -1.13619\n",
      "Interatomic Distance: 0.8 VQE Result: -0.75865 Exact Energy: -1.13415\n",
      "Interatomic Distance: 0.9 VQE Result: -0.78526 Exact Energy: -1.12056\n",
      "Interatomic Distance: 1.0 VQE Result: -0.79809 Exact Energy: -1.10115\n",
      "Interatomic Distance: 1.1 VQE Result: -0.80180 Exact Energy: -1.07919\n",
      "Interatomic Distance: 1.2 VQE Result: -0.79933 Exact Energy: -1.05674\n",
      "Interatomic Distance: 1.3 VQE Result: -0.79266 Exact Energy: -1.03519\n",
      "Interatomic Distance: 1.4 VQE Result: -0.78324 Exact Energy: -1.01547\n",
      "Interatomic Distance: 1.5 VQE Result: -0.77213 Exact Energy: -0.99815\n",
      "Interatomic Distance: 1.6 VQE Result: -0.76011 Exact Energy: -0.98347\n",
      "Interatomic Distance: 1.7 VQE Result: -0.74777 Exact Energy: -0.97143\n",
      "Interatomic Distance: 1.8 VQE Result: -0.73551 Exact Energy: -0.96182\n",
      "Interatomic Distance: 1.9 VQE Result: -0.72363 Exact Energy: -0.95434\n",
      "Interatomic Distance: 2.0 VQE Result: -0.71233 Exact Energy: -0.94864\n",
      "Interatomic Distance: 2.1 VQE Result: -0.70171 Exact Energy: -0.94437\n",
      "Interatomic Distance: 2.2 VQE Result: -0.69186 Exact Energy: -0.94122\n",
      "Interatomic Distance: 2.3 VQE Result: -0.68278 Exact Energy: -0.93892\n",
      "Interatomic Distance: 2.4 VQE Result: -0.67447 Exact Energy: -0.93725\n",
      "Interatomic Distance: 2.5 VQE Result: -0.66691 Exact Energy: -0.93605\n",
      "Interatomic Distance: 2.6 VQE Result: -0.66006 Exact Energy: -0.93520\n",
      "Interatomic Distance: 2.7 VQE Result: -0.65387 Exact Energy: -0.93458\n",
      "Interatomic Distance: 2.8 VQE Result: -0.64829 Exact Energy: -0.93415\n",
      "Interatomic Distance: 2.9 VQE Result: -0.64329 Exact Energy: -0.93385\n",
      "Interatomic Distance: 3.0 VQE Result: -0.63880 Exact Energy: -0.93363\n",
      "Interatomic Distance: 3.1 VQE Result: -0.63479 Exact Energy: -0.93348\n",
      "Interatomic Distance: 3.2 VQE Result: -0.63120 Exact Energy: -0.93338\n",
      "Interatomic Distance: 3.3 VQE Result: -0.62799 Exact Energy: -0.93331\n",
      "Interatomic Distance: 3.4 VQE Result: -0.62512 Exact Energy: -0.93326\n",
      "Interatomic Distance: 3.5 VQE Result: -0.62256 Exact Energy: -0.93323\n",
      "Interatomic Distance: 3.6 VQE Result: -0.62025 Exact Energy: -0.93321\n",
      "Interatomic Distance: 3.7 VQE Result: -0.61818 Exact Energy: -0.93319\n",
      "Interatomic Distance: 3.8 VQE Result: -0.61631 Exact Energy: -0.93318\n",
      "Interatomic Distance: 3.9 VQE Result: -0.61462 Exact Energy: -0.93318\n",
      "All energies have been calculated\n"
     ]
    }
   ],
   "source": [
    "distances = np.arange(0.1, 4.0, 0.1)\n",
    "exact_energies_slsqp = []\n",
    "vqe_energies_slsqp = []\n",
    "error_slsqp = []\n",
    "optimizer = SLSQP(maxiter=100)\n",
    "#noiseless_estimator = Estimator(approximation=True)\n",
    "noisy_estimator = Estimator(\n",
    "    backend_options={\n",
    "        \"method\": \"density_matrix\",\n",
    "        \"coupling_map\": coupling_map,\n",
    "        \"noise_model\": noise_model,\n",
    "    },\n",
    "    run_options={\"seed\": seed, \"shots\": 1024},\n",
    "    transpile_options={\"seed_transpiler\": seed},\n",
    ")\n",
    "for dist in distances:\n",
    "    (qubit_op, num_particles, num_spatial_orbitals, problem, mapper) = get_qubit_op_jw(\n",
    "        dist\n",
    "    )\n",
    "\n",
    "    result = exact_solver_jw(qubit_op, problem)\n",
    "    exact_energies_slsqp.append(result.total_energies[0].real)\n",
    "    init_state = HartreeFock(num_spatial_orbitals, num_particles, mapper)\n",
    "    var_form = UCCSD(\n",
    "        num_spatial_orbitals, num_particles, mapper, initial_state=init_state\n",
    "    )\n",
    "    vqe = VQE(\n",
    "        noisy_estimator,\n",
    "        var_form,\n",
    "        optimizer,\n",
    "        initial_point=[0] * var_form.num_parameters,\n",
    "    )\n",
    "    \n",
    "    vqe_calc = vqe.compute_minimum_eigenvalue(qubit_op)\n",
    "    vqe_result = problem.interpret(vqe_calc).total_energies[0].real\n",
    "    vqe_energies_slsqp.append(vqe_result)\n",
    "    error_slsqp.append(abs(vqe_result - (-1.13619)))\n",
    "    print(\n",
    "        f\"Interatomic Distance: {np.round(dist, 2)}\",\n",
    "        f\"VQE Result: {vqe_result:.5f}\",\n",
    "        f\"Exact Energy: {exact_energies_slsqp[-1]:.5f}\",)\n",
    "\n",
    "print(\"All energies have been calculated\")"
   ]
  },
  {
   "cell_type": "code",
   "execution_count": 10,
   "id": "f7b906c7-d591-4e8f-b87d-f399806bcc14",
   "metadata": {
    "tags": []
   },
   "outputs": [
    {
     "name": "stdout",
     "output_type": "stream",
     "text": [
      "Interatomic Distance: 0.1 VQE Result: 3.65657 Exact Energy: 2.70996\n",
      "Interatomic Distance: 0.2 VQE Result: 1.02073 Exact Energy: 0.15748\n",
      "Interatomic Distance: 0.3 VQE Result: 0.15645 Exact Energy: -0.60180\n",
      "Interatomic Distance: 0.4 VQE Result: -0.25921 Exact Energy: -0.91415\n",
      "Interatomic Distance: 0.5 VQE Result: -0.49123 Exact Energy: -1.05516\n",
      "Interatomic Distance: 0.6 VQE Result: -0.62855 Exact Energy: -1.11629\n",
      "Interatomic Distance: 0.7 VQE Result: -0.71062 Exact Energy: -1.13619\n",
      "Interatomic Distance: 0.8 VQE Result: -0.75865 Exact Energy: -1.13415\n",
      "Interatomic Distance: 0.9 VQE Result: -0.78526 Exact Energy: -1.12056\n",
      "Interatomic Distance: 1.0 VQE Result: -0.79809 Exact Energy: -1.10115\n",
      "Interatomic Distance: 1.1 VQE Result: -0.81426 Exact Energy: -1.07919\n",
      "Interatomic Distance: 1.2 VQE Result: -0.81223 Exact Energy: -1.05674\n",
      "Interatomic Distance: 1.3 VQE Result: -0.80601 Exact Energy: -1.03519\n",
      "Interatomic Distance: 1.4 VQE Result: -0.79702 Exact Energy: -1.01547\n",
      "Interatomic Distance: 1.5 VQE Result: -0.78588 Exact Energy: -0.99815\n",
      "Interatomic Distance: 1.6 VQE Result: -0.77472 Exact Energy: -0.98347\n",
      "Interatomic Distance: 1.7 VQE Result: -0.76277 Exact Energy: -0.97143\n",
      "Interatomic Distance: 1.8 VQE Result: -0.75041 Exact Energy: -0.96182\n",
      "Interatomic Distance: 1.9 VQE Result: -0.73888 Exact Energy: -0.95434\n",
      "Interatomic Distance: 2.0 VQE Result: -0.72790 Exact Energy: -0.94864\n",
      "Interatomic Distance: 2.1 VQE Result: -0.71812 Exact Energy: -0.94437\n",
      "Interatomic Distance: 2.2 VQE Result: -0.70804 Exact Energy: -0.94122\n",
      "Interatomic Distance: 2.3 VQE Result: -0.69924 Exact Energy: -0.93892\n",
      "Interatomic Distance: 2.4 VQE Result: -0.69119 Exact Energy: -0.93725\n",
      "Interatomic Distance: 2.5 VQE Result: -0.68388 Exact Energy: -0.93605\n",
      "Interatomic Distance: 2.6 VQE Result: -0.67781 Exact Energy: -0.93520\n",
      "Interatomic Distance: 2.7 VQE Result: -0.70565 Exact Energy: -0.93458\n",
      "Interatomic Distance: 2.8 VQE Result: -0.66648 Exact Energy: -0.93415\n",
      "Interatomic Distance: 2.9 VQE Result: -0.69414 Exact Energy: -0.93385\n",
      "Interatomic Distance: 3.0 VQE Result: -0.70909 Exact Energy: -0.93363\n",
      "Interatomic Distance: 3.1 VQE Result: -0.70583 Exact Energy: -0.93348\n",
      "Interatomic Distance: 3.2 VQE Result: -0.70966 Exact Energy: -0.93338\n",
      "Interatomic Distance: 3.3 VQE Result: -0.68365 Exact Energy: -0.93331\n",
      "Interatomic Distance: 3.4 VQE Result: -0.70513 Exact Energy: -0.93326\n",
      "Interatomic Distance: 3.5 VQE Result: -0.69606 Exact Energy: -0.93323\n",
      "Interatomic Distance: 3.6 VQE Result: -0.70217 Exact Energy: -0.93321\n",
      "Interatomic Distance: 3.7 VQE Result: -0.67335 Exact Energy: -0.93319\n",
      "Interatomic Distance: 3.8 VQE Result: -0.69904 Exact Energy: -0.93318\n",
      "Interatomic Distance: 3.9 VQE Result: -0.67264 Exact Energy: -0.93318\n",
      "All energies have been calculated\n"
     ]
    }
   ],
   "source": [
    "distances = np.arange(0.1, 4.0, 0.1)\n",
    "exact_energies_nft = []\n",
    "vqe_energies_nft = []\n",
    "error_nft = []\n",
    "optimizer = NFT(maxiter=100)\n",
    "#noiseless_estimator = Estimator(approximation=True)\n",
    "noisy_estimator = Estimator(\n",
    "    backend_options={\n",
    "        \"method\": \"density_matrix\",\n",
    "        \"coupling_map\": coupling_map,\n",
    "        \"noise_model\": noise_model,\n",
    "    },\n",
    "    run_options={\"seed\": seed, \"shots\": 1024},\n",
    "    transpile_options={\"seed_transpiler\": seed},\n",
    ")\n",
    "for dist in distances:\n",
    "    (qubit_op, num_particles, num_spatial_orbitals, problem, mapper) = get_qubit_op_jw(\n",
    "        dist\n",
    "    )\n",
    "\n",
    "    result = exact_solver_jw(qubit_op, problem)\n",
    "    exact_energies_nft.append(result.total_energies[0].real)\n",
    "    init_state = HartreeFock(num_spatial_orbitals, num_particles, mapper)\n",
    "    var_form = UCCSD(\n",
    "        num_spatial_orbitals, num_particles, mapper, initial_state=init_state\n",
    "    )\n",
    "    vqe = VQE(\n",
    "        noisy_estimator,\n",
    "        var_form,\n",
    "        optimizer,\n",
    "        initial_point=[0] * var_form.num_parameters,\n",
    "    )\n",
    "    \n",
    "    vqe_calc = vqe.compute_minimum_eigenvalue(qubit_op)\n",
    "    vqe_result = problem.interpret(vqe_calc).total_energies[0].real\n",
    "    vqe_energies_nft.append(vqe_result)\n",
    "    error_nft.append(abs(vqe_result - (-1.13619)))\n",
    "    print(\n",
    "        f\"Interatomic Distance: {np.round(dist, 2)}\",\n",
    "        f\"VQE Result: {vqe_result:.5f}\",\n",
    "        f\"Exact Energy: {exact_energies_nft[-1]:.5f}\",)\n",
    "\n",
    "print(\"All energies have been calculated\")"
   ]
  },
  {
   "cell_type": "code",
   "execution_count": 11,
   "id": "59e85b8c-a188-4a8b-b001-f7ab03553e8d",
   "metadata": {
    "tags": []
   },
   "outputs": [
    {
     "name": "stdout",
     "output_type": "stream",
     "text": [
      "Interatomic Distance: 0.1 VQE Result: 3.65657 Exact Energy: 2.70996\n",
      "Interatomic Distance: 0.2 VQE Result: 1.02073 Exact Energy: 0.15748\n",
      "Interatomic Distance: 0.3 VQE Result: 0.15645 Exact Energy: -0.60180\n",
      "Interatomic Distance: 0.4 VQE Result: -0.25921 Exact Energy: -0.91415\n",
      "Interatomic Distance: 0.5 VQE Result: -0.49123 Exact Energy: -1.05516\n",
      "Interatomic Distance: 0.6 VQE Result: -0.62855 Exact Energy: -1.11629\n",
      "Interatomic Distance: 0.7 VQE Result: -0.71062 Exact Energy: -1.13619\n",
      "Interatomic Distance: 0.8 VQE Result: -0.75865 Exact Energy: -1.13415\n",
      "Interatomic Distance: 0.9 VQE Result: -0.78526 Exact Energy: -1.12056\n",
      "Interatomic Distance: 1.0 VQE Result: -0.79809 Exact Energy: -1.10115\n",
      "Interatomic Distance: 1.1 VQE Result: -0.80180 Exact Energy: -1.07919\n",
      "Interatomic Distance: 1.2 VQE Result: -0.79933 Exact Energy: -1.05674\n",
      "Interatomic Distance: 1.3 VQE Result: -0.79266 Exact Energy: -1.03519\n",
      "Interatomic Distance: 1.4 VQE Result: -0.78324 Exact Energy: -1.01547\n",
      "Interatomic Distance: 1.5 VQE Result: -0.77213 Exact Energy: -0.99815\n",
      "Interatomic Distance: 1.6 VQE Result: -0.76011 Exact Energy: -0.98347\n",
      "Interatomic Distance: 1.7 VQE Result: -0.74777 Exact Energy: -0.97143\n",
      "Interatomic Distance: 1.8 VQE Result: -0.73551 Exact Energy: -0.96182\n",
      "Interatomic Distance: 1.9 VQE Result: -0.72363 Exact Energy: -0.95434\n",
      "Interatomic Distance: 2.0 VQE Result: -0.71233 Exact Energy: -0.94864\n",
      "Interatomic Distance: 2.1 VQE Result: -0.70171 Exact Energy: -0.94437\n",
      "Interatomic Distance: 2.2 VQE Result: -0.69186 Exact Energy: -0.94122\n",
      "Interatomic Distance: 2.3 VQE Result: -0.68278 Exact Energy: -0.93892\n",
      "Interatomic Distance: 2.4 VQE Result: -0.67447 Exact Energy: -0.93725\n",
      "Interatomic Distance: 2.5 VQE Result: -0.66691 Exact Energy: -0.93605\n",
      "Interatomic Distance: 2.6 VQE Result: -0.66006 Exact Energy: -0.93520\n",
      "Interatomic Distance: 2.7 VQE Result: -0.65387 Exact Energy: -0.93458\n",
      "Interatomic Distance: 2.8 VQE Result: -0.64829 Exact Energy: -0.93415\n",
      "Interatomic Distance: 2.9 VQE Result: -0.64329 Exact Energy: -0.93385\n",
      "Interatomic Distance: 3.0 VQE Result: -0.63880 Exact Energy: -0.93363\n",
      "Interatomic Distance: 3.1 VQE Result: -0.63479 Exact Energy: -0.93348\n",
      "Interatomic Distance: 3.2 VQE Result: -0.63120 Exact Energy: -0.93338\n",
      "Interatomic Distance: 3.3 VQE Result: -0.62799 Exact Energy: -0.93331\n",
      "Interatomic Distance: 3.4 VQE Result: -0.62512 Exact Energy: -0.93326\n",
      "Interatomic Distance: 3.5 VQE Result: -0.62256 Exact Energy: -0.93323\n",
      "Interatomic Distance: 3.6 VQE Result: -0.62025 Exact Energy: -0.93321\n",
      "Interatomic Distance: 3.7 VQE Result: -0.61818 Exact Energy: -0.93319\n",
      "Interatomic Distance: 3.8 VQE Result: -0.61631 Exact Energy: -0.93318\n",
      "Interatomic Distance: 3.9 VQE Result: -0.61462 Exact Energy: -0.93318\n",
      "All energies have been calculated\n"
     ]
    }
   ],
   "source": [
    "distances = np.arange(0.1, 4.0, 0.1)\n",
    "exact_energies_bfgs = []\n",
    "vqe_energies_bfgs = []\n",
    "error_bfgs = []\n",
    "optimizer = L_BFGS_B(maxiter=100)\n",
    "#noiseless_estimator = Estimator(approximation=True)\n",
    "noisy_estimator = Estimator(\n",
    "    backend_options={\n",
    "        \"method\": \"density_matrix\",\n",
    "        \"coupling_map\": coupling_map,\n",
    "        \"noise_model\": noise_model,\n",
    "    },\n",
    "    run_options={\"seed\": seed, \"shots\": 1024},\n",
    "    transpile_options={\"seed_transpiler\": seed},\n",
    ")\n",
    "for dist in distances:\n",
    "    (qubit_op, num_particles, num_spatial_orbitals, problem, mapper) = get_qubit_op_jw(\n",
    "        dist\n",
    "    )\n",
    "\n",
    "    result = exact_solver_jw(qubit_op, problem)\n",
    "    exact_energies_bfgs.append(result.total_energies[0].real)\n",
    "    init_state = HartreeFock(num_spatial_orbitals, num_particles, mapper)\n",
    "    var_form = UCCSD(\n",
    "        num_spatial_orbitals, num_particles, mapper, initial_state=init_state\n",
    "    )\n",
    "    vqe = VQE(\n",
    "        noisy_estimator,\n",
    "        var_form,\n",
    "        optimizer,\n",
    "        initial_point=[0] * var_form.num_parameters,\n",
    "    )\n",
    "    \n",
    "    vqe_calc = vqe.compute_minimum_eigenvalue(qubit_op)\n",
    "    vqe_result = problem.interpret(vqe_calc).total_energies[0].real\n",
    "    vqe_energies_bfgs.append(vqe_result)\n",
    "    error_bfgs.append(abs(vqe_result - (-1.13619)))\n",
    "    print(\n",
    "        f\"Interatomic Distance: {np.round(dist, 2)}\",\n",
    "        f\"VQE Result: {vqe_result:.5f}\",\n",
    "        f\"Exact Energy: {exact_energies_bfgs[-1]:.5f}\",)\n",
    "\n",
    "print(\"All energies have been calculated\")"
   ]
  },
  {
   "cell_type": "code",
   "execution_count": 28,
   "id": "dba73dc3-4d05-43bc-b641-641b198d8204",
   "metadata": {
    "tags": []
   },
   "outputs": [
    {
     "data": {
      "image/png": "[encoded data removed]",
      "text/plain": [
       "<Figure size 640x480 with 1 Axes>"
      ]
     },
     "metadata": {},
     "output_type": "display_data"
    }
   ],
   "source": [
    "plt.plot(distances, error_cobyla, label=\"COBYLA\")\n",
    "ci = 0.2 * np.std(error_cobyla) / np.mean(error_cobyla)\n",
    "plt.fill_between(distances, (error_cobyla-ci), (error_cobyla+ci), color='blue', alpha=0.1)\n",
    "\n",
    "plt.plot(distances, error_spsa, label=\"SPSA\")\n",
    "ci_spsa = 0.2 * np.std(error_spsa) / np.mean(error_spsa)\n",
    "plt.fill_between(distances, (error_spsa-ci_spsa), (error_spsa+ci_spsa), color='gold', alpha=0.1)\n",
    "\n",
    "plt.plot(distances, error_slsqp, label=\"SLSQP\")\n",
    "ci_slsqp = 0.2 * np.std(error_slsqp) / np.mean(error_slsqp)\n",
    "plt.fill_between(distances, (error_slsqp-ci_slsqp), (error_slsqp+ci_slsqp), color='green', alpha=0.1)\n",
    "\n",
    "plt.plot(distances, error_nft, label=\"NFT\")\n",
    "ci_nft = 0.2 * np.std(error_nft) / np.mean(error_nft)\n",
    "plt.fill_between(distances, (error_nft-ci_nft), (error_nft+ci_nft), color='red', alpha=0.1)\n",
    "\n",
    "plt.plot(distances, error_bfgs, label=\"L_BFGS_B\")\n",
    "ci_bfgs = 0.2 * np.std(error_bfgs) / np.mean(error_bfgs)\n",
    "plt.fill_between(distances, (error_bfgs-ci_nft), (error_bfgs+ci_nft), color='purple', alpha=0.1)\n",
    "\n",
    "#plt.ylim(0,0.000000000001)\n",
    "plt.xlabel(\"Atomic distance (Angstrom)\")\n",
    "plt.ylabel(\"Energy\")\n",
    "plt.legend()\n",
    "plt.savefig(\"H2_Error_Optimizer_Comparison_Noisy.jpeg\",dpi=300)\n",
    "plt.show()\n"
   ]
  },
  {
   "cell_type": "code",
   "execution_count": 13,
   "id": "cd360af7-2798-4603-b0a1-192dc4a9c83a",
   "metadata": {
    "tags": []
   },
   "outputs": [
    {
     "name": "stdout",
     "output_type": "stream",
     "text": [
      "[4.792755325084995, 2.1569182884475584, 1.2926370383660606, 0.8769793021389545, 0.6449621771198857, 0.5076385138800934, 0.4255729977434397, 0.37754384896453974, 0.350933520351316, 0.33809772196595367, 0.3343874384061174, 0.33686223264698345, 0.3435278438160694, 0.35294831050219844, 0.3640611344060296, 0.3760787971646562, 0.38842389628841456, 0.40068078956024833, 0.4125587039498777, 0.4238634940938808, 0.43447548462617935, 0.44433140730940424, 0.45340932561463454, 0.4617161705832623, 0.46927785045237047, 0.4761318776209378, 0.4823222601337791, 0.4878962124648728, 0.49290215498986933, 0.4973885081616327, 0.5014029052925344, 0.5049915908305919, 0.5081988952679771, 0.5110667619885727, 0.5136343437962937, 0.5159376973949328, 0.5180095959992443, 0.51987946509106, 0.5215734317591582]\n"
     ]
    }
   ],
   "source": [
    "print(error_bfgs)"
   ]
  },
  {
   "cell_type": "code",
   "execution_count": 14,
   "id": "8ad2323d-7a48-4a91-92d9-290d56d928f6",
   "metadata": {
    "tags": []
   },
   "outputs": [
    {
     "name": "stdout",
     "output_type": "stream",
     "text": [
      "[4.770230640404947, 2.1393746214417937, 1.2776356885803823, 0.8570220063111791, 0.6253254824717371, 0.486256209380701, 0.4020875339294263, 0.34966552941186624, 0.32239521513425884, 0.3053211040728593, 0.2957702504312232, 0.3277114876487599, 0.30738985691135934, 0.3131128941109538, 0.3194335136194111, 0.3346917611561264, 0.32935865539685705, 0.3414568400848462, 0.33930260736689033, 0.34523927611802874, 0.35342100457718906, 0.34548282148138276, 0.348862765492838, 0.35343960814109365, 0.3556489711015961, 0.35673575336817764, 0.3628247782503886, 0.3669343095612949, 0.3590187049807382, 0.3534835051738692, 0.37580660534307586, 0.3624353327100919, 0.3639610102869215, 0.35720821775350964, 0.3582585259405041, 0.35803365472797943, 0.36245280142112923, 0.37651684227866056, 0.375751587907717]\n"
     ]
    }
   ],
   "source": [
    "print(error_cobyla)"
   ]
  },
  {
   "cell_type": "code",
   "execution_count": 15,
   "id": "65df50b1-d900-44dc-90af-d3fd8688b22c",
   "metadata": {
    "tags": []
   },
   "outputs": [
    {
     "name": "stdout",
     "output_type": "stream",
     "text": [
      "[4.792755325084995, 2.1569182884475584, 1.2926370383660606, 0.8769793021389545, 0.6449621771198857, 0.5076385138800934, 0.4255729977434397, 0.37754384896453974, 0.350933520351316, 0.33809772196595367, 0.3343874384061174, 0.33686223264698345, 0.3435278438160694, 0.35294831050219844, 0.3640611344060296, 0.3760787971646562, 0.38842389628841456, 0.40068078956024833, 0.4125587039498777, 0.4238634940938808, 0.43447548462617935, 0.44433140730940424, 0.45340932561463454, 0.4617161705832623, 0.46927785045237047, 0.4761318776209378, 0.4823222601337791, 0.4878962124648728, 0.49290215498986933, 0.4973885081616327, 0.5014029052925344, 0.5049915908305919, 0.5081988952679771, 0.5110667619885727, 0.5136343437962937, 0.5159376973949328, 0.5180095959992443, 0.51987946509106, 0.5215734317591582]\n"
     ]
    }
   ],
   "source": [
    "print(error_slsqp)"
   ]
  },
  {
   "cell_type": "code",
   "execution_count": 17,
   "id": "8ae54679-4fc9-4b5a-b9f9-c23b9644419b",
   "metadata": {
    "tags": []
   },
   "outputs": [
    {
     "name": "stdout",
     "output_type": "stream",
     "text": [
      "[4.808771186859325, 2.173796305648917, 1.754842645330695, 0.8829798080336382, 0.6304123460042983, 0.5120804309433213, 0.42311355579887855, 0.3715258128954033, 0.35190523919863104, 0.3094003343465811, 0.3041337109613962, 0.3027845623154015, 0.3052015289420311, 0.33218668292211095, 0.33240893633337465, 0.32842863452808424, 0.3290581761993019, 0.338473556754736, 0.3531236032242955, 0.3468043774997722, 0.35645290717973244, 0.35263479513865925, 0.3600381428415862, 0.36299474389125663, 0.3601333426275134, 0.365538441792318, 0.3615548738045511, 0.35681395405456773, 0.36197415470629357, 0.357140316926605, 0.3582444590307071, 0.3647524152771381, 0.36667755740820185, 0.3948642965169398, 0.3620189741367602, 0.3647696583813633, 0.36340952766963963, 0.36769889579265713, 0.36426616237989773]\n"
     ]
    }
   ],
   "source": [
    "print(error_spsa)"
   ]
  },
  {
   "cell_type": "code",
   "execution_count": 26,
   "id": "fcb1418a-f9b5-4049-85fe-7e951e6d7eb9",
   "metadata": {
    "tags": []
   },
   "outputs": [
    {
     "data": {
      "image/png": "[encoded data removed]",
      "text/plain": [
       "<Figure size 640x480 with 1 Axes>"
      ]
     },
     "metadata": {},
     "output_type": "display_data"
    }
   ],
   "source": [
    "plt.plot(distances, vqe_energies_cobyla, label=\"COBYLA\")\n",
    "ci = 0.2 * np.std(vqe_energies_cobyla) / np.mean(vqe_energies_cobyla)\n",
    "plt.fill_between(distances, (vqe_energies_cobyla-ci), (vqe_energies_cobyla+ci), color='blue', alpha=0.1)\n",
    "\n",
    "plt.plot(distances, vqe_energies_spsa, label=\"SPSA\")\n",
    "ci = 0.2 * np.std(vqe_energies_spsa) / np.mean(vqe_energies_spsa)\n",
    "plt.fill_between(distances, (vqe_energies_spsa-ci), (vqe_energies_spsa+ci), color='gold', alpha=0.1)\n",
    "\n",
    "plt.plot(distances, vqe_energies_slsqp, label=\"SLSQP\")\n",
    "ci = 0.2 * np.std(vqe_energies_slsqp) / np.mean(vqe_energies_slsqp)\n",
    "plt.fill_between(distances, (vqe_energies_slsqp-ci), (vqe_energies_slsqp+ci), color='green', alpha=0.1)\n",
    "\n",
    "plt.plot(distances, vqe_energies_nft, label=\"NFT\")\n",
    "ci = 0.2 * np.std(vqe_energies_nft) / np.mean(vqe_energies_nft)\n",
    "plt.fill_between(distances, (vqe_energies_nft-ci), (vqe_energies_nft+ci), color='red', alpha=0.1)\n",
    "\n",
    "plt.plot(distances, vqe_energies_bfgs, label=\"L_BFGS_B\")\n",
    "ci = 0.2 * np.std(vqe_energies_bfgs) / np.mean(vqe_energies_bfgs)\n",
    "plt.fill_between(distances, (vqe_energies_bfgs-ci), (vqe_energies_bfgs+ci), color='purple', alpha=0.1)\n",
    "#plt.ylim(0,0.000000000001)\n",
    "plt.xlabel(\"Atomic distance (Angstrom)\")\n",
    "plt.ylabel(\"Energy\")\n",
    "plt.legend()\n",
    "plt.savefig(\"H2_Optimizer_Comparison_noisy.jpeg\",dpi=300)\n",
    "plt.show()"
   ]
  },
  {
   "cell_type": "code",
   "execution_count": null,
   "id": "f42fbda8-5e1b-413d-af2b-495f99702060",
   "metadata": {},
   "outputs": [],
   "source": []
  }
 ],
 "metadata": {
  "kernelspec": {
   "display_name": "Python 3 (ipykernel)",
   "language": "python",
   "name": "python3"
  },
  "language_info": {
   "codemirror_mode": {
    "name": "ipython",
    "version": 3
   },
   "file_extension": ".py",
   "mimetype": "text/x-python",
   "name": "python",
   "nbconvert_exporter": "python",
   "pygments_lexer": "ipython3",
   "version": "3.10.8"
  },
  "widgets": {
   "application/vnd.jupyter.widget-state+json": {
    "state": {
     "04a67f1b12f4456e87b28e097b73ecbf": {
      "model_module": "@jupyter-widgets/controls",
      "model_module_version": "2.0.0",
      "model_name": "HTMLModel",
      "state": {
       "layout": "IPY_MODEL_235511d4a84b45cbbd39b71ed776ea27",
       "style": "IPY_MODEL_2d3c365d3bcc41f8bfa80a1e80409ff7",
       "value": "<h5>Message</h5>"
      }
     },
     "0ca646da44324c99bf940b0201477ac1": {
      "model_module": "@jupyter-widgets/base",
      "model_module_version": "2.0.0",
      "model_name": "LayoutModel",
      "state": {
       "width": "70px"
      }
     },
     "206fb57ff2f34bb6bd5f1fb87d9fceab": {
      "model_module": "@jupyter-widgets/controls",
      "model_module_version": "2.0.0",
      "model_name": "HTMLStyleModel",
      "state": {
       "description_width": "",
       "font_size": null,
       "text_color": null
      }
     },
     "235511d4a84b45cbbd39b71ed776ea27": {
      "model_module": "@jupyter-widgets/base",
      "model_module_version": "2.0.0",
      "model_name": "LayoutModel",
      "state": {}
     },
     "2d3c365d3bcc41f8bfa80a1e80409ff7": {
      "model_module": "@jupyter-widgets/controls",
      "model_module_version": "2.0.0",
      "model_name": "HTMLStyleModel",
      "state": {
       "description_width": "",
       "font_size": null,
       "text_color": null
      }
     },
     "43c0fea3031c449c82b17c61df7cb1d6": {
      "model_module": "@jupyter-widgets/controls",
      "model_module_version": "2.0.0",
      "model_name": "HTMLStyleModel",
      "state": {
       "description_width": "",
       "font_size": null,
       "text_color": null
      }
     },
     "47e10aabef3e4ffd8cc5f2748246e444": {
      "model_module": "@jupyter-widgets/base",
      "model_module_version": "2.0.0",
      "model_name": "LayoutModel",
      "state": {
       "width": "95px"
      }
     },
     "497a59be08f640849fa2a420f9b280ed": {
      "model_module": "@jupyter-widgets/controls",
      "model_module_version": "2.0.0",
      "model_name": "HTMLStyleModel",
      "state": {
       "description_width": "",
       "font_size": null,
       "text_color": null
      }
     },
     "4e86fbfef94f4e86b88a83950738c823": {
      "model_module": "@jupyter-widgets/base",
      "model_module_version": "2.0.0",
      "model_name": "LayoutModel",
      "state": {
       "grid_template_areas": "\n                                       \". . . . right \"\n                                        ",
       "grid_template_columns": "20% 20% 20% 20% 20%",
       "width": "100%"
      }
     },
     "4f140bb4a25c4bdbbb9f8143982c1f9a": {
      "model_module": "@jupyter-widgets/controls",
      "model_module_version": "2.0.0",
      "model_name": "HTMLModel",
      "state": {
       "layout": "IPY_MODEL_fd299f7b1731456081583c396bf3ae93",
       "style": "IPY_MODEL_43c0fea3031c449c82b17c61df7cb1d6",
       "value": "<h5>Job ID</h5>"
      }
     },
     "51c627c3fdcb4d67abae39e75fa6b140": {
      "model_module": "@jupyter-widgets/controls",
      "model_module_version": "2.0.0",
      "model_name": "HTMLModel",
      "state": {
       "layout": "IPY_MODEL_0ca646da44324c99bf940b0201477ac1",
       "style": "IPY_MODEL_f158215bc8e14289968f4f34607e956d",
       "value": "<h5>Queue</h5>"
      }
     },
     "663e1e3188524192ae126e2e0d5b6f8f": {
      "model_module": "@jupyter-widgets/base",
      "model_module_version": "2.0.0",
      "model_name": "LayoutModel",
      "state": {
       "grid_area": "right",
       "padding": "0px 0px 0px 0px",
       "width": "70px"
      }
     },
     "7b5ccb945f894cbfaa116f660963f642": {
      "model_module": "@jupyter-widgets/base",
      "model_module_version": "2.0.0",
      "model_name": "LayoutModel",
      "state": {
       "width": "145px"
      }
     },
     "7e5ebe09209d430cb24b2e7d5a6f2fec": {
      "model_module": "@jupyter-widgets/base",
      "model_module_version": "2.0.0",
      "model_name": "LayoutModel",
      "state": {
       "margin": "0px 0px 0px 37px",
       "width": "600px"
      }
     },
     "89bd8ee896b648009075f13840fa0388": {
      "model_module": "@jupyter-widgets/controls",
      "model_module_version": "2.0.0",
      "model_name": "HTMLModel",
      "state": {
       "layout": "IPY_MODEL_47e10aabef3e4ffd8cc5f2748246e444",
       "style": "IPY_MODEL_fd72f2739ab64029adbf9e319d1b4010",
       "value": "<h5>Status</h5>"
      }
     },
     "8c7b10c2b91f4057be099336d1417950": {
      "model_module": "@jupyter-widgets/controls",
      "model_module_version": "2.0.0",
      "model_name": "HTMLModel",
      "state": {
       "layout": "IPY_MODEL_bdd856e3747448ed907c04c41c9eeb7e",
       "style": "IPY_MODEL_206fb57ff2f34bb6bd5f1fb87d9fceab",
       "value": "<p style='font-family: IBM Plex Sans, Arial, Helvetica, sans-serif; font-size: 20px; font-weight: medium;'>Circuit Properties</p>"
      }
     },
     "9b8fba04a57a44e9b9e06e4819896549": {
      "model_module": "@jupyter-widgets/controls",
      "model_module_version": "2.0.0",
      "model_name": "HBoxModel",
      "state": {
       "children": [
        "IPY_MODEL_4f140bb4a25c4bdbbb9f8143982c1f9a",
        "IPY_MODEL_ff95428b6e60472a80616cdf5e96ae99",
        "IPY_MODEL_89bd8ee896b648009075f13840fa0388",
        "IPY_MODEL_51c627c3fdcb4d67abae39e75fa6b140",
        "IPY_MODEL_04a67f1b12f4456e87b28e097b73ecbf"
       ],
       "layout": "IPY_MODEL_7e5ebe09209d430cb24b2e7d5a6f2fec"
      }
     },
     "aa5e900555f44444b4a03161e0545c75": {
      "model_module": "@jupyter-widgets/controls",
      "model_module_version": "2.0.0",
      "model_name": "ButtonModel",
      "state": {
       "button_style": "primary",
       "description": "Clear",
       "layout": "IPY_MODEL_663e1e3188524192ae126e2e0d5b6f8f",
       "style": "IPY_MODEL_f3574a88bab14b6fb5e9d20a5919b8fd",
       "tooltip": null
      }
     },
     "b96c492d2bce4ee1831e67fadb1dfe09": {
      "model_module": "@jupyter-widgets/controls",
      "model_module_version": "2.0.0",
      "model_name": "GridBoxModel",
      "state": {
       "children": [
        "IPY_MODEL_aa5e900555f44444b4a03161e0545c75"
       ],
       "layout": "IPY_MODEL_4e86fbfef94f4e86b88a83950738c823"
      }
     },
     "bdd856e3747448ed907c04c41c9eeb7e": {
      "model_module": "@jupyter-widgets/base",
      "model_module_version": "2.0.0",
      "model_name": "LayoutModel",
      "state": {
       "margin": "0px 0px 10px 0px"
      }
     },
     "f158215bc8e14289968f4f34607e956d": {
      "model_module": "@jupyter-widgets/controls",
      "model_module_version": "2.0.0",
      "model_name": "HTMLStyleModel",
      "state": {
       "description_width": "",
       "font_size": null,
       "text_color": null
      }
     },
     "f3574a88bab14b6fb5e9d20a5919b8fd": {
      "model_module": "@jupyter-widgets/controls",
      "model_module_version": "2.0.0",
      "model_name": "ButtonStyleModel",
      "state": {
       "font_family": null,
       "font_size": null,
       "font_style": null,
       "font_variant": null,
       "font_weight": null,
       "text_color": null,
       "text_decoration": null
      }
     },
     "fd299f7b1731456081583c396bf3ae93": {
      "model_module": "@jupyter-widgets/base",
      "model_module_version": "2.0.0",
      "model_name": "LayoutModel",
      "state": {
       "width": "190px"
      }
     },
     "fd72f2739ab64029adbf9e319d1b4010": {
      "model_module": "@jupyter-widgets/controls",
      "model_module_version": "2.0.0",
      "model_name": "HTMLStyleModel",
      "state": {
       "description_width": "",
       "font_size": null,
       "text_color": null
      }
     },
     "ff95428b6e60472a80616cdf5e96ae99": {
      "model_module": "@jupyter-widgets/controls",
      "model_module_version": "2.0.0",
      "model_name": "HTMLModel",
      "state": {
       "layout": "IPY_MODEL_7b5ccb945f894cbfaa116f660963f642",
       "style": "IPY_MODEL_497a59be08f640849fa2a420f9b280ed",
       "value": "<h5>Backend</h5>"
      }
     }
    },
    "version_major": 2,
    "version_minor": 0
   }
  }
 },
 "nbformat": 4,
 "nbformat_minor": 5
}

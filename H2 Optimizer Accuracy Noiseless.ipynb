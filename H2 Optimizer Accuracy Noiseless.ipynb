{
 "cells": [
  {
   "cell_type": "code",
   "execution_count": 1,
   "id": "374b58b1-9ddb-4687-badb-f13a3772553b",
   "metadata": {
    "tags": []
   },
   "outputs": [],
   "source": [
    "# Importing standard Qiskit libraries\n",
    "from qiskit import QuantumCircuit, transpile\n",
    "from qiskit.tools.jupyter import *\n",
    "from qiskit.visualization import *\n",
    "from ibm_quantum_widgets import *\n",
    "\n",
    "# qiskit-ibmq-provider has been deprecated.\n",
    "# Please see the Migration Guides in https://ibm.biz/provider_migration_guide for more detail.\n",
    "from qiskit_ibm_runtime import QiskitRuntimeService, Sampler, Estimator, Session, Options\n",
    "\n",
    "# Loading your IBM Quantum account(s)\n",
    "service = QiskitRuntimeService(channel=\"ibm_quantum\")\n",
    "\n",
    "# Invoke a primitive. For more details see https://qiskit.org/documentation/partners/qiskit_ibm_runtime/tutorials.html\n",
    "# result = Sampler(\"ibmq_qasm_simulator\").run(circuits).result()\n",
    "import qiskit_nature\n",
    "from qiskit.algorithms.minimum_eigensolvers import NumPyMinimumEigensolver, VQE\n",
    "from qiskit_nature.second_q.transformers import FreezeCoreTransformer\n",
    "from qiskit_nature.second_q.formats.molecule_info import MoleculeInfo\n",
    "from qiskit_nature.second_q.mappers import ParityMapper\n",
    "from qiskit_nature.second_q.circuit.library import UCCSD, HartreeFock\n",
    "from qiskit_nature.second_q.mappers import JordanWignerMapper\n",
    "from qiskit_nature.units import DistanceUnit\n",
    "qiskit_nature.settings.use_pauli_sum_op = False\n",
    "from qiskit_nature.second_q.drivers import PySCFDriver\n",
    "import matplotlib.pyplot as plt\n",
    "from qiskit.circuit.library import EfficientSU2\n",
    "import numpy as np\n",
    "from qiskit.algorithms.optimizers import COBYLA, L_BFGS_B, SLSQP,SPSA,NFT\n",
    "from qiskit_aer.primitives import Estimator\n",
    "#from qiskit.chemistry.drivers import PySCFDriver, UnitsType, Molecule\n",
    "from qiskit.circuit.library import TwoLocal\n",
    "import numpy as np\n",
    "\n",
    "\n",
    "from qiskit import Aer\n",
    "from qiskit.opflow import X, Z, I\n",
    "from qiskit.utils import QuantumInstance, algorithm_globals\n",
    "from qiskit.algorithms.optimizers import COBYLA, L_BFGS_B, SLSQP,SPSA,NFT\n",
    "from qiskit.circuit.library import TwoLocal"
   ]
  },
  {
   "cell_type": "code",
   "execution_count": 2,
   "id": "f052c434-7c11-4ef0-be56-9e368dcb1881",
   "metadata": {
    "tags": []
   },
   "outputs": [],
   "source": [
    "def get_qubit_op_jw(dist):\n",
    "    # Define Molecule\n",
    "    driver = PySCFDriver(\n",
    "    atom=\"H 0 0 0; H 0 0 \"+str(dist),\n",
    "    basis=\"sto3g\",\n",
    "    charge=0,\n",
    "    spin=0,\n",
    "    unit=DistanceUnit.ANGSTROM,\n",
    "    )\n",
    "    # Get properties\n",
    "    problem = driver.run()\n",
    "\n",
    "    num_particles = problem.num_particles\n",
    "    num_spatial_orbitals = problem.num_spatial_orbitals\n",
    "    \n",
    "    mapper = ParityMapper()\n",
    "    #tapered_mapper = problem.get_tapered_mapper(mapper)\n",
    "    qubit_op = mapper.map(problem.second_q_ops()[0])\n",
    "    return qubit_op, num_particles, num_spatial_orbitals, problem, mapper"
   ]
  },
  {
   "cell_type": "code",
   "execution_count": 3,
   "id": "6ffe232e-a890-49ab-aa3c-25daca524957",
   "metadata": {
    "tags": []
   },
   "outputs": [],
   "source": [
    "def exact_solver_jw(qubit_op, problem):\n",
    "    sol = NumPyMinimumEigensolver().compute_minimum_eigenvalue(qubit_op)\n",
    "    result = problem.interpret(sol)\n",
    "    return result"
   ]
  },
  {
   "cell_type": "code",
   "execution_count": 31,
   "id": "8d824a39-5ae0-4c1f-a47d-6d146c107ec2",
   "metadata": {
    "tags": []
   },
   "outputs": [
    {
     "name": "stdout",
     "output_type": "stream",
     "text": [
      "Interatomic Distance: 0.1 VQE Result: 2.70996 Exact Energy: 2.70996\n",
      "Interatomic Distance: 0.2 VQE Result: 0.15748 Exact Energy: 0.15748\n",
      "Interatomic Distance: 0.3 VQE Result: -0.60180 Exact Energy: -0.60180\n",
      "Interatomic Distance: 0.4 VQE Result: -0.91415 Exact Energy: -0.91415\n",
      "Interatomic Distance: 0.5 VQE Result: -1.05516 Exact Energy: -1.05516\n",
      "Interatomic Distance: 0.6 VQE Result: -1.11629 Exact Energy: -1.11629\n",
      "Interatomic Distance: 0.7 VQE Result: -1.13619 Exact Energy: -1.13619\n",
      "Interatomic Distance: 0.8 VQE Result: -1.13415 Exact Energy: -1.13415\n",
      "Interatomic Distance: 0.9 VQE Result: -1.12056 Exact Energy: -1.12056\n",
      "Interatomic Distance: 1.0 VQE Result: -1.10115 Exact Energy: -1.10115\n",
      "Interatomic Distance: 1.1 VQE Result: -1.07919 Exact Energy: -1.07919\n",
      "Interatomic Distance: 1.2 VQE Result: -1.05674 Exact Energy: -1.05674\n",
      "Interatomic Distance: 1.3 VQE Result: -1.03519 Exact Energy: -1.03519\n",
      "Interatomic Distance: 1.4 VQE Result: -1.01547 Exact Energy: -1.01547\n",
      "Interatomic Distance: 1.5 VQE Result: -0.99815 Exact Energy: -0.99815\n",
      "Interatomic Distance: 1.6 VQE Result: -0.98347 Exact Energy: -0.98347\n",
      "Interatomic Distance: 1.7 VQE Result: -0.97143 Exact Energy: -0.97143\n",
      "Interatomic Distance: 1.8 VQE Result: -0.96182 Exact Energy: -0.96182\n",
      "Interatomic Distance: 1.9 VQE Result: -0.95434 Exact Energy: -0.95434\n",
      "Interatomic Distance: 2.0 VQE Result: -0.94864 Exact Energy: -0.94864\n",
      "Interatomic Distance: 2.1 VQE Result: -0.94434 Exact Energy: -0.94437\n",
      "Interatomic Distance: 2.2 VQE Result: -0.94122 Exact Energy: -0.94122\n",
      "Interatomic Distance: 2.3 VQE Result: -0.93892 Exact Energy: -0.93892\n",
      "Interatomic Distance: 2.4 VQE Result: -0.93510 Exact Energy: -0.93725\n",
      "Interatomic Distance: 2.5 VQE Result: -0.93561 Exact Energy: -0.93605\n",
      "Interatomic Distance: 2.6 VQE Result: -0.93484 Exact Energy: -0.93520\n",
      "Interatomic Distance: 2.7 VQE Result: -0.93448 Exact Energy: -0.93458\n",
      "Interatomic Distance: 2.8 VQE Result: -0.93409 Exact Energy: -0.93415\n",
      "Interatomic Distance: 2.9 VQE Result: -0.93353 Exact Energy: -0.93385\n",
      "Interatomic Distance: 3.0 VQE Result: -0.93348 Exact Energy: -0.93363\n",
      "Interatomic Distance: 3.1 VQE Result: -0.93348 Exact Energy: -0.93348\n",
      "Interatomic Distance: 3.2 VQE Result: -0.93338 Exact Energy: -0.93338\n",
      "Interatomic Distance: 3.3 VQE Result: -0.93330 Exact Energy: -0.93331\n",
      "Interatomic Distance: 3.4 VQE Result: -0.93326 Exact Energy: -0.93326\n",
      "Interatomic Distance: 3.5 VQE Result: -0.93322 Exact Energy: -0.93323\n",
      "Interatomic Distance: 3.6 VQE Result: -0.93320 Exact Energy: -0.93321\n",
      "Interatomic Distance: 3.7 VQE Result: -0.93319 Exact Energy: -0.93319\n",
      "Interatomic Distance: 3.8 VQE Result: -0.93318 Exact Energy: -0.93318\n",
      "Interatomic Distance: 3.9 VQE Result: -0.93318 Exact Energy: -0.93318\n",
      "All energies have been calculated\n"
     ]
    }
   ],
   "source": [
    "distances = np.arange(0.1, 4.0, 0.1)\n",
    "exact_energies_cobyla = []\n",
    "vqe_energies_cobyla = []\n",
    "error_cobyla = []\n",
    "optimizer = COBYLA(maxiter=100)\n",
    "noiseless_estimator = Estimator(approximation=True)\n",
    "for dist in distances:\n",
    "    (qubit_op, num_particles, num_spatial_orbitals, problem, mapper) = get_qubit_op_jw(\n",
    "        dist\n",
    "    )\n",
    "\n",
    "    result = exact_solver_jw(qubit_op, problem)\n",
    "    exact_energies_cobyla.append(result.total_energies[0].real)\n",
    "    init_state = HartreeFock(num_spatial_orbitals, num_particles, mapper)\n",
    "    var_form = UCCSD(\n",
    "        num_spatial_orbitals, num_particles, mapper, initial_state=init_state\n",
    "    )\n",
    "    vqe = VQE(\n",
    "        noiseless_estimator,\n",
    "        var_form,\n",
    "        optimizer,\n",
    "        initial_point=[0] * var_form.num_parameters,\n",
    "    )\n",
    "    \n",
    "    vqe_calc = vqe.compute_minimum_eigenvalue(qubit_op)\n",
    "    vqe_result = problem.interpret(vqe_calc).total_energies[0].real\n",
    "    vqe_energies_cobyla.append(vqe_result)\n",
    "    error_cobyla.append(abs(vqe_result - (-1.13619)))\n",
    "    print(\n",
    "        f\"Interatomic Distance: {np.round(dist, 2)}\",\n",
    "        f\"VQE Result: {vqe_result:.5f}\",\n",
    "        f\"Exact Energy: {exact_energies_cobyla[-1]:.5f}\",)\n",
    "\n",
    "print(\"All energies have been calculated\")"
   ]
  },
  {
   "cell_type": "code",
   "execution_count": 32,
   "id": "54d6b10a-993e-4e10-a205-65f3d0694ae0",
   "metadata": {
    "tags": []
   },
   "outputs": [
    {
     "name": "stdout",
     "output_type": "stream",
     "text": [
      "Interatomic Distance: 0.1 VQE Result: 3.71422 Exact Energy: 2.70996\n",
      "Interatomic Distance: 0.2 VQE Result: 0.55301 Exact Energy: 0.15748\n",
      "Interatomic Distance: 0.3 VQE Result: -0.60008 Exact Energy: -0.60180\n",
      "Interatomic Distance: 0.4 VQE Result: -0.91202 Exact Energy: -0.91415\n",
      "Interatomic Distance: 0.5 VQE Result: -1.05332 Exact Energy: -1.05516\n",
      "Interatomic Distance: 0.6 VQE Result: -1.11571 Exact Energy: -1.11629\n",
      "Interatomic Distance: 0.7 VQE Result: -1.13597 Exact Energy: -1.13619\n",
      "Interatomic Distance: 0.8 VQE Result: -1.13328 Exact Energy: -1.13415\n",
      "Interatomic Distance: 0.9 VQE Result: -1.12050 Exact Energy: -1.12056\n",
      "Interatomic Distance: 1.0 VQE Result: -1.10101 Exact Energy: -1.10115\n",
      "Interatomic Distance: 1.1 VQE Result: -1.07915 Exact Energy: -1.07919\n",
      "Interatomic Distance: 1.2 VQE Result: -1.05651 Exact Energy: -1.05674\n",
      "Interatomic Distance: 1.3 VQE Result: -1.03513 Exact Energy: -1.03519\n",
      "Interatomic Distance: 1.4 VQE Result: -1.01538 Exact Energy: -1.01547\n",
      "Interatomic Distance: 1.5 VQE Result: -0.99810 Exact Energy: -0.99815\n",
      "Interatomic Distance: 1.6 VQE Result: -0.98005 Exact Energy: -0.98347\n",
      "Interatomic Distance: 1.7 VQE Result: -0.96141 Exact Energy: -0.97143\n",
      "Interatomic Distance: 1.8 VQE Result: -0.96156 Exact Energy: -0.96182\n",
      "Interatomic Distance: 1.9 VQE Result: -0.95418 Exact Energy: -0.95434\n",
      "Interatomic Distance: 2.0 VQE Result: -0.93903 Exact Energy: -0.94864\n",
      "Interatomic Distance: 2.1 VQE Result: -0.94405 Exact Energy: -0.94437\n",
      "Interatomic Distance: 2.2 VQE Result: -0.94120 Exact Energy: -0.94122\n",
      "Interatomic Distance: 2.3 VQE Result: -0.93850 Exact Energy: -0.93892\n",
      "Interatomic Distance: 2.4 VQE Result: -0.93699 Exact Energy: -0.93725\n",
      "Interatomic Distance: 2.5 VQE Result: -0.93520 Exact Energy: -0.93605\n",
      "Interatomic Distance: 2.6 VQE Result: -0.93460 Exact Energy: -0.93520\n",
      "Interatomic Distance: 2.7 VQE Result: -0.93443 Exact Energy: -0.93458\n",
      "Interatomic Distance: 2.8 VQE Result: -0.93372 Exact Energy: -0.93415\n",
      "Interatomic Distance: 2.9 VQE Result: -0.93374 Exact Energy: -0.93385\n",
      "Interatomic Distance: 3.0 VQE Result: -0.93353 Exact Energy: -0.93363\n",
      "Interatomic Distance: 3.1 VQE Result: -0.93331 Exact Energy: -0.93348\n",
      "Interatomic Distance: 3.2 VQE Result: -0.93330 Exact Energy: -0.93338\n",
      "Interatomic Distance: 3.3 VQE Result: -0.93325 Exact Energy: -0.93331\n",
      "Interatomic Distance: 3.4 VQE Result: -0.93324 Exact Energy: -0.93326\n",
      "Interatomic Distance: 3.5 VQE Result: -0.93320 Exact Energy: -0.93323\n",
      "Interatomic Distance: 3.6 VQE Result: -0.93318 Exact Energy: -0.93321\n",
      "Interatomic Distance: 3.7 VQE Result: -0.93319 Exact Energy: -0.93319\n",
      "Interatomic Distance: 3.8 VQE Result: -0.93317 Exact Energy: -0.93318\n",
      "Interatomic Distance: 3.9 VQE Result: -0.93316 Exact Energy: -0.93318\n",
      "All energies have been calculated\n"
     ]
    }
   ],
   "source": [
    "distances = np.arange(0.1, 4.0, 0.1)\n",
    "exact_energies_spsa = []\n",
    "vqe_energies_spsa = []\n",
    "error_spsa = []\n",
    "optimizer = SPSA(maxiter=100)\n",
    "noiseless_estimator = Estimator(approximation=True)\n",
    "for dist in distances:\n",
    "    (qubit_op, num_particles, num_spatial_orbitals, problem, mapper) = get_qubit_op_jw(\n",
    "        dist\n",
    "    )\n",
    "\n",
    "    result = exact_solver_jw(qubit_op, problem)\n",
    "    exact_energies_spsa.append(result.total_energies[0].real)\n",
    "    init_state = HartreeFock(num_spatial_orbitals, num_particles, mapper)\n",
    "    var_form = UCCSD(\n",
    "        num_spatial_orbitals, num_particles, mapper, initial_state=init_state\n",
    "    )\n",
    "    vqe = VQE(\n",
    "        noiseless_estimator,\n",
    "        var_form,\n",
    "        optimizer,\n",
    "        initial_point=[0] * var_form.num_parameters,\n",
    "    )\n",
    "    \n",
    "    vqe_calc = vqe.compute_minimum_eigenvalue(qubit_op)\n",
    "    vqe_result = problem.interpret(vqe_calc).total_energies[0].real\n",
    "    vqe_energies_spsa.append(vqe_result)\n",
    "    error_spsa.append(abs(vqe_result - (-1.13619)))\n",
    "    print(\n",
    "        f\"Interatomic Distance: {np.round(dist, 2)}\",\n",
    "        f\"VQE Result: {vqe_result:.5f}\",\n",
    "        f\"Exact Energy: {exact_energies_spsa[-1]:.5f}\",)\n",
    "\n",
    "print(\"All energies have been calculated\")"
   ]
  },
  {
   "cell_type": "code",
   "execution_count": 33,
   "id": "209f13c0-8a8f-4a61-a24a-cd13ed8a3d75",
   "metadata": {},
   "outputs": [
    {
     "name": "stdout",
     "output_type": "stream",
     "text": [
      "Interatomic Distance: 0.1 VQE Result: 2.70996 Exact Energy: 2.70996\n",
      "Interatomic Distance: 0.2 VQE Result: 0.15748 Exact Energy: 0.15748\n",
      "Interatomic Distance: 0.3 VQE Result: -0.60180 Exact Energy: -0.60180\n",
      "Interatomic Distance: 0.4 VQE Result: -0.91415 Exact Energy: -0.91415\n",
      "Interatomic Distance: 0.5 VQE Result: -1.05516 Exact Energy: -1.05516\n",
      "Interatomic Distance: 0.6 VQE Result: -1.11629 Exact Energy: -1.11629\n",
      "Interatomic Distance: 0.7 VQE Result: -1.13619 Exact Energy: -1.13619\n",
      "Interatomic Distance: 0.8 VQE Result: -1.13415 Exact Energy: -1.13415\n",
      "Interatomic Distance: 0.9 VQE Result: -1.12056 Exact Energy: -1.12056\n",
      "Interatomic Distance: 1.0 VQE Result: -1.10115 Exact Energy: -1.10115\n",
      "Interatomic Distance: 1.1 VQE Result: -1.07919 Exact Energy: -1.07919\n",
      "Interatomic Distance: 1.2 VQE Result: -1.05674 Exact Energy: -1.05674\n",
      "Interatomic Distance: 1.3 VQE Result: -1.03519 Exact Energy: -1.03519\n",
      "Interatomic Distance: 1.4 VQE Result: -1.01547 Exact Energy: -1.01547\n",
      "Interatomic Distance: 1.5 VQE Result: -0.99815 Exact Energy: -0.99815\n",
      "Interatomic Distance: 1.6 VQE Result: -0.98347 Exact Energy: -0.98347\n",
      "Interatomic Distance: 1.7 VQE Result: -0.97143 Exact Energy: -0.97143\n",
      "Interatomic Distance: 1.8 VQE Result: -0.96182 Exact Energy: -0.96182\n",
      "Interatomic Distance: 1.9 VQE Result: -0.95434 Exact Energy: -0.95434\n",
      "Interatomic Distance: 2.0 VQE Result: -0.94864 Exact Energy: -0.94864\n",
      "Interatomic Distance: 2.1 VQE Result: -0.94437 Exact Energy: -0.94437\n",
      "Interatomic Distance: 2.2 VQE Result: -0.94122 Exact Energy: -0.94122\n",
      "Interatomic Distance: 2.3 VQE Result: -0.93892 Exact Energy: -0.93892\n",
      "Interatomic Distance: 2.4 VQE Result: -0.93725 Exact Energy: -0.93725\n",
      "Interatomic Distance: 2.5 VQE Result: -0.93605 Exact Energy: -0.93605\n",
      "Interatomic Distance: 2.6 VQE Result: -0.93520 Exact Energy: -0.93520\n",
      "Interatomic Distance: 2.7 VQE Result: -0.93458 Exact Energy: -0.93458\n",
      "Interatomic Distance: 2.8 VQE Result: -0.93415 Exact Energy: -0.93415\n",
      "Interatomic Distance: 2.9 VQE Result: -0.93385 Exact Energy: -0.93385\n",
      "Interatomic Distance: 3.0 VQE Result: -0.93363 Exact Energy: -0.93363\n",
      "Interatomic Distance: 3.1 VQE Result: -0.93348 Exact Energy: -0.93348\n",
      "Interatomic Distance: 3.2 VQE Result: -0.93338 Exact Energy: -0.93338\n",
      "Interatomic Distance: 3.3 VQE Result: -0.93331 Exact Energy: -0.93331\n",
      "Interatomic Distance: 3.4 VQE Result: -0.93326 Exact Energy: -0.93326\n",
      "Interatomic Distance: 3.5 VQE Result: -0.93323 Exact Energy: -0.93323\n",
      "Interatomic Distance: 3.6 VQE Result: -0.93321 Exact Energy: -0.93321\n",
      "Interatomic Distance: 3.7 VQE Result: -0.93319 Exact Energy: -0.93319\n",
      "Interatomic Distance: 3.8 VQE Result: -0.93318 Exact Energy: -0.93318\n",
      "Interatomic Distance: 3.9 VQE Result: -0.93318 Exact Energy: -0.93318\n",
      "All energies have been calculated\n"
     ]
    }
   ],
   "source": [
    "distances = np.arange(0.1, 4.0, 0.1)\n",
    "exact_energies_slsqp = []\n",
    "vqe_energies_slsqp = []\n",
    "error_slsqp = []\n",
    "optimizer = SLSQP(maxiter=100)\n",
    "noiseless_estimator = Estimator(approximation=True)\n",
    "for dist in distances:\n",
    "    (qubit_op, num_particles, num_spatial_orbitals, problem, mapper) = get_qubit_op_jw(\n",
    "        dist\n",
    "    )\n",
    "\n",
    "    result = exact_solver_jw(qubit_op, problem)\n",
    "    exact_energies_slsqp.append(result.total_energies[0].real)\n",
    "    init_state = HartreeFock(num_spatial_orbitals, num_particles, mapper)\n",
    "    var_form = UCCSD(\n",
    "        num_spatial_orbitals, num_particles, mapper, initial_state=init_state\n",
    "    )\n",
    "    vqe = VQE(\n",
    "        noiseless_estimator,\n",
    "        var_form,\n",
    "        optimizer,\n",
    "        initial_point=[0] * var_form.num_parameters,\n",
    "    )\n",
    "    \n",
    "    vqe_calc = vqe.compute_minimum_eigenvalue(qubit_op)\n",
    "    vqe_result = problem.interpret(vqe_calc).total_energies[0].real\n",
    "    vqe_energies_slsqp.append(vqe_result)\n",
    "    error_slsqp.append(abs(vqe_result - (-1.13619)))\n",
    "    print(\n",
    "        f\"Interatomic Distance: {np.round(dist, 2)}\",\n",
    "        f\"VQE Result: {vqe_result:.5f}\",\n",
    "        f\"Exact Energy: {exact_energies_slsqp[-1]:.5f}\",)\n",
    "\n",
    "print(\"All energies have been calculated\")"
   ]
  },
  {
   "cell_type": "code",
   "execution_count": 34,
   "id": "f7b906c7-d591-4e8f-b87d-f399806bcc14",
   "metadata": {
    "tags": []
   },
   "outputs": [
    {
     "name": "stdout",
     "output_type": "stream",
     "text": [
      "Interatomic Distance: 0.1 VQE Result: 2.71589 Exact Energy: 2.70996\n",
      "Interatomic Distance: 0.2 VQE Result: 0.16418 Exact Energy: 0.15748\n",
      "Interatomic Distance: 0.3 VQE Result: -0.59383 Exact Energy: -0.60180\n",
      "Interatomic Distance: 0.4 VQE Result: -0.90436 Exact Energy: -0.91415\n",
      "Interatomic Distance: 0.5 VQE Result: -1.04300 Exact Energy: -1.05516\n",
      "Interatomic Distance: 0.6 VQE Result: -1.10113 Exact Energy: -1.11629\n",
      "Interatomic Distance: 0.7 VQE Result: -1.11735 Exact Energy: -1.13619\n",
      "Interatomic Distance: 0.8 VQE Result: -1.11085 Exact Energy: -1.13415\n",
      "Interatomic Distance: 0.9 VQE Result: -1.09191 Exact Energy: -1.12056\n",
      "Interatomic Distance: 1.0 VQE Result: -1.06611 Exact Energy: -1.10115\n",
      "Interatomic Distance: 1.1 VQE Result: -1.03654 Exact Energy: -1.07919\n",
      "Interatomic Distance: 1.2 VQE Result: -1.00511 Exact Energy: -1.05674\n",
      "Interatomic Distance: 1.3 VQE Result: -0.97311 Exact Energy: -1.03519\n",
      "Interatomic Distance: 1.4 VQE Result: -0.94148 Exact Energy: -1.01547\n",
      "Interatomic Distance: 1.5 VQE Result: -0.91087 Exact Energy: -0.99815\n",
      "Interatomic Distance: 1.6 VQE Result: -0.88173 Exact Energy: -0.98347\n",
      "Interatomic Distance: 1.7 VQE Result: -0.85434 Exact Energy: -0.97143\n",
      "Interatomic Distance: 1.8 VQE Result: -0.82885 Exact Energy: -0.96182\n",
      "Interatomic Distance: 1.9 VQE Result: -0.80533 Exact Energy: -0.95434\n",
      "Interatomic Distance: 2.0 VQE Result: -0.78379 Exact Energy: -0.94864\n",
      "Interatomic Distance: 2.1 VQE Result: -0.76418 Exact Energy: -0.94437\n",
      "Interatomic Distance: 2.2 VQE Result: -0.74640 Exact Energy: -0.94122\n",
      "Interatomic Distance: 2.3 VQE Result: -0.73035 Exact Energy: -0.93892\n",
      "Interatomic Distance: 2.4 VQE Result: -0.71591 Exact Energy: -0.93725\n",
      "Interatomic Distance: 2.5 VQE Result: -0.70294 Exact Energy: -0.93605\n",
      "Interatomic Distance: 2.6 VQE Result: -0.69133 Exact Energy: -0.93520\n",
      "Interatomic Distance: 2.7 VQE Result: -0.68094 Exact Energy: -0.93458\n",
      "Interatomic Distance: 2.8 VQE Result: -0.67167 Exact Energy: -0.93415\n",
      "Interatomic Distance: 2.9 VQE Result: -0.66340 Exact Energy: -0.93385\n",
      "Interatomic Distance: 3.0 VQE Result: -0.65605 Exact Energy: -0.93363\n",
      "Interatomic Distance: 3.1 VQE Result: -0.64951 Exact Energy: -0.93348\n",
      "Interatomic Distance: 3.2 VQE Result: -0.64369 Exact Energy: -0.93338\n",
      "Interatomic Distance: 3.3 VQE Result: -0.63852 Exact Energy: -0.93331\n",
      "Interatomic Distance: 3.4 VQE Result: -0.63392 Exact Energy: -0.93326\n",
      "Interatomic Distance: 3.5 VQE Result: -0.62982 Exact Energy: -0.93323\n",
      "Interatomic Distance: 3.6 VQE Result: -0.62616 Exact Energy: -0.93321\n",
      "Interatomic Distance: 3.7 VQE Result: -0.62288 Exact Energy: -0.93319\n",
      "Interatomic Distance: 3.8 VQE Result: -0.61994 Exact Energy: -0.93318\n",
      "Interatomic Distance: 3.9 VQE Result: -0.61728 Exact Energy: -0.93318\n",
      "All energies have been calculated\n"
     ]
    }
   ],
   "source": [
    "distances = np.arange(0.1, 4.0, 0.1)\n",
    "exact_energies_nft = []\n",
    "vqe_energies_nft = []\n",
    "error_nft = []\n",
    "optimizer = NFT(maxiter=100)\n",
    "noiseless_estimator = Estimator(approximation=True)\n",
    "for dist in distances:\n",
    "    (qubit_op, num_particles, num_spatial_orbitals, problem, mapper) = get_qubit_op_jw(\n",
    "        dist\n",
    "    )\n",
    "\n",
    "    result = exact_solver_jw(qubit_op, problem)\n",
    "    exact_energies_nft.append(result.total_energies[0].real)\n",
    "    init_state = HartreeFock(num_spatial_orbitals, num_particles, mapper)\n",
    "    var_form = UCCSD(\n",
    "        num_spatial_orbitals, num_particles, mapper, initial_state=init_state\n",
    "    )\n",
    "    vqe = VQE(\n",
    "        noiseless_estimator,\n",
    "        var_form,\n",
    "        optimizer,\n",
    "        initial_point=[0] * var_form.num_parameters,\n",
    "    )\n",
    "    \n",
    "    vqe_calc = vqe.compute_minimum_eigenvalue(qubit_op)\n",
    "    vqe_result = problem.interpret(vqe_calc).total_energies[0].real\n",
    "    vqe_energies_nft.append(vqe_result)\n",
    "    error_nft.append(abs(vqe_result - (-1.13619)))\n",
    "    print(\n",
    "        f\"Interatomic Distance: {np.round(dist, 2)}\",\n",
    "        f\"VQE Result: {vqe_result:.5f}\",\n",
    "        f\"Exact Energy: {exact_energies_nft[-1]:.5f}\",)\n",
    "\n",
    "print(\"All energies have been calculated\")"
   ]
  },
  {
   "cell_type": "code",
   "execution_count": 35,
   "id": "59e85b8c-a188-4a8b-b001-f7ab03553e8d",
   "metadata": {
    "tags": []
   },
   "outputs": [
    {
     "name": "stdout",
     "output_type": "stream",
     "text": [
      "Interatomic Distance: 0.1 VQE Result: 2.70996 Exact Energy: 2.70996\n",
      "Interatomic Distance: 0.2 VQE Result: 0.15748 Exact Energy: 0.15748\n",
      "Interatomic Distance: 0.3 VQE Result: -0.60180 Exact Energy: -0.60180\n",
      "Interatomic Distance: 0.4 VQE Result: -0.91415 Exact Energy: -0.91415\n",
      "Interatomic Distance: 0.5 VQE Result: -1.05516 Exact Energy: -1.05516\n",
      "Interatomic Distance: 0.6 VQE Result: -1.11629 Exact Energy: -1.11629\n",
      "Interatomic Distance: 0.7 VQE Result: -1.13619 Exact Energy: -1.13619\n",
      "Interatomic Distance: 0.8 VQE Result: -1.13415 Exact Energy: -1.13415\n",
      "Interatomic Distance: 0.9 VQE Result: -1.12056 Exact Energy: -1.12056\n",
      "Interatomic Distance: 1.0 VQE Result: -1.10115 Exact Energy: -1.10115\n",
      "Interatomic Distance: 1.1 VQE Result: -1.07919 Exact Energy: -1.07919\n",
      "Interatomic Distance: 1.2 VQE Result: -1.05674 Exact Energy: -1.05674\n",
      "Interatomic Distance: 1.3 VQE Result: -1.03519 Exact Energy: -1.03519\n",
      "Interatomic Distance: 1.4 VQE Result: -1.01547 Exact Energy: -1.01547\n",
      "Interatomic Distance: 1.5 VQE Result: -0.99815 Exact Energy: -0.99815\n",
      "Interatomic Distance: 1.6 VQE Result: -0.98347 Exact Energy: -0.98347\n",
      "Interatomic Distance: 1.7 VQE Result: -0.97143 Exact Energy: -0.97143\n",
      "Interatomic Distance: 1.8 VQE Result: -0.96182 Exact Energy: -0.96182\n",
      "Interatomic Distance: 1.9 VQE Result: -0.95434 Exact Energy: -0.95434\n",
      "Interatomic Distance: 2.0 VQE Result: -0.94864 Exact Energy: -0.94864\n",
      "Interatomic Distance: 2.1 VQE Result: -0.94437 Exact Energy: -0.94437\n",
      "Interatomic Distance: 2.2 VQE Result: -0.94122 Exact Energy: -0.94122\n",
      "Interatomic Distance: 2.3 VQE Result: -0.93892 Exact Energy: -0.93892\n",
      "Interatomic Distance: 2.4 VQE Result: -0.93725 Exact Energy: -0.93725\n",
      "Interatomic Distance: 2.5 VQE Result: -0.93605 Exact Energy: -0.93605\n",
      "Interatomic Distance: 2.6 VQE Result: -0.93520 Exact Energy: -0.93520\n",
      "Interatomic Distance: 2.7 VQE Result: -0.93458 Exact Energy: -0.93458\n",
      "Interatomic Distance: 2.8 VQE Result: -0.93415 Exact Energy: -0.93415\n",
      "Interatomic Distance: 2.9 VQE Result: -0.93385 Exact Energy: -0.93385\n",
      "Interatomic Distance: 3.0 VQE Result: -0.93363 Exact Energy: -0.93363\n",
      "Interatomic Distance: 3.1 VQE Result: -0.93348 Exact Energy: -0.93348\n",
      "Interatomic Distance: 3.2 VQE Result: -0.93338 Exact Energy: -0.93338\n",
      "Interatomic Distance: 3.3 VQE Result: -0.93331 Exact Energy: -0.93331\n",
      "Interatomic Distance: 3.4 VQE Result: -0.93326 Exact Energy: -0.93326\n",
      "Interatomic Distance: 3.5 VQE Result: -0.93323 Exact Energy: -0.93323\n",
      "Interatomic Distance: 3.6 VQE Result: -0.93321 Exact Energy: -0.93321\n",
      "Interatomic Distance: 3.7 VQE Result: -0.93319 Exact Energy: -0.93319\n",
      "Interatomic Distance: 3.8 VQE Result: -0.93318 Exact Energy: -0.93318\n",
      "Interatomic Distance: 3.9 VQE Result: -0.93318 Exact Energy: -0.93318\n",
      "All energies have been calculated\n"
     ]
    }
   ],
   "source": [
    "distances = np.arange(0.1, 4.0, 0.1)\n",
    "exact_energies_bfgs = []\n",
    "vqe_energies_bfgs = []\n",
    "error_bfgs = []\n",
    "optimizer = L_BFGS_B(maxiter=100)\n",
    "noiseless_estimator = Estimator(approximation=True)\n",
    "for dist in distances:\n",
    "    (qubit_op, num_particles, num_spatial_orbitals, problem, mapper) = get_qubit_op_jw(\n",
    "        dist\n",
    "    )\n",
    "\n",
    "    result = exact_solver_jw(qubit_op, problem)\n",
    "    exact_energies_bfgs.append(result.total_energies[0].real)\n",
    "    init_state = HartreeFock(num_spatial_orbitals, num_particles, mapper)\n",
    "    var_form = UCCSD(\n",
    "        num_spatial_orbitals, num_particles, mapper, initial_state=init_state\n",
    "    )\n",
    "    vqe = VQE(\n",
    "        noiseless_estimator,\n",
    "        var_form,\n",
    "        optimizer,\n",
    "        initial_point=[0] * var_form.num_parameters,\n",
    "    )\n",
    "    \n",
    "    vqe_calc = vqe.compute_minimum_eigenvalue(qubit_op)\n",
    "    vqe_result = problem.interpret(vqe_calc).total_energies[0].real\n",
    "    vqe_energies_bfgs.append(vqe_result)\n",
    "    error_bfgs.append(abs(vqe_result - (-1.13619)))\n",
    "    print(\n",
    "        f\"Interatomic Distance: {np.round(dist, 2)}\",\n",
    "        f\"VQE Result: {vqe_result:.5f}\",\n",
    "        f\"Exact Energy: {exact_energies_bfgs[-1]:.5f}\",)\n",
    "\n",
    "print(\"All energies have been calculated\")"
   ]
  },
  {
   "cell_type": "code",
   "execution_count": 41,
   "id": "dba73dc3-4d05-43bc-b641-641b198d8204",
   "metadata": {
    "tags": []
   },
   "outputs": [
    {
     "data": {
      "image/png": "[encoded data removed]",
      "text/plain": [
       "<Figure size 640x480 with 1 Axes>"
      ]
     },
     "metadata": {},
     "output_type": "display_data"
    }
   ],
   "source": [
    "plt.plot(distances, error_cobyla, label=\"COBYLA\")\n",
    "ci = 0.2 * np.std(error_cobyla) / np.mean(error_cobyla)\n",
    "plt.fill_between(distances, (error_cobyla-ci), (error_cobyla+ci), color='blue', alpha=0.1)\n",
    "\n",
    "plt.plot(distances, error_spsa, label=\"SPSA\")\n",
    "ci_spsa = 0.2 * np.std(error_spsa) / np.mean(error_spsa)\n",
    "plt.fill_between(distances, (error_spsa-ci_spsa), (error_spsa+ci_spsa), color='gold', alpha=0.1)\n",
    "\n",
    "plt.plot(distances, error_slsqp,label=\"SLSQP\")\n",
    "ci_slsqp = 0.2 * np.std(error_slsqp) / np.mean(error_slsqp)\n",
    "plt.fill_between(distances, (error_slsqp-ci_slsqp), (error_slsqp+ci_slsqp), color='green', alpha=0.1)\n",
    "\n",
    "plt.plot(distances, error_nft, label=\"NFT\")\n",
    "ci_nft = 0.2 * np.std(error_nft) / np.mean(error_nft)\n",
    "plt.fill_between(distances, (error_nft-ci_nft), (error_nft+ci_nft), color='red', alpha=0.1)\n",
    "\n",
    "plt.plot(distances, error_bfgs,label=\"L_BFGS_B\")\n",
    "ci_bfgs = 0.2 * np.std(error_bfgs) / np.mean(error_bfgs)\n",
    "plt.fill_between(distances, (error_bfgs-ci_bfgs), (error_bfgs+ci_bfgs), color='purple', alpha=0.1)\n",
    "\n",
    "#plt.ylim(0,0.000000000001)\n",
    "plt.xlabel(\"Atomic distance (Angstrom)\")\n",
    "plt.ylabel(\"Energy\")\n",
    "plt.legend()\n",
    "plt.savefig(\"H2_Error_Optimizer_Comparison_Noiseless.jpeg\",dpi = 300)\n",
    "plt.show()"
   ]
  },
  {
   "cell_type": "code",
   "execution_count": 37,
   "id": "cd360af7-2798-4603-b0a1-192dc4a9c83a",
   "metadata": {
    "tags": []
   },
   "outputs": [
    {
     "name": "stdout",
     "output_type": "stream",
     "text": [
      "[3.8461507708672737, 1.293672134798368, 0.534386289234319, 0.22204029537292103, 0.08103020552938367, 0.019903993130463205, 5.459340779445654e-07, 0.0020423333229200313, 0.015629718700029382, 0.035039669767437776, 0.056997055031082766, 0.07944925369507194, 0.10100373356611092, 0.12072175071228308, 0.138040646528802, 0.15271727096688203, 0.16476331154166313, 0.17437304720742375, 0.18185114600127306, 0.18754888782435897, 0.1918153188841658, 0.19496596631725205, 0.19726761403243986, 0.19893504701979403, 0.20013508008089897, 0.20099396919265455, 0.20160558406326956, 0.2020389043702353, 0.2023442492606241, 0.2025581554811935, 0.20270705965744307, 0.20281002268743198, 0.2028807275947443, 0.20292894257308958, 0.2029615944817046, 0.20298355805249435, 0.2029982358974991, 0.20300798325589586, 0.203014416960407]\n"
     ]
    }
   ],
   "source": [
    "print(error_bfgs)"
   ]
  },
  {
   "cell_type": "code",
   "execution_count": 38,
   "id": "8ad2323d-7a48-4a91-92d9-290d56d928f6",
   "metadata": {
    "tags": []
   },
   "outputs": [
    {
     "name": "stdout",
     "output_type": "stream",
     "text": [
      "[3.8461507913530526, 1.2936721675716014, 0.5343862977981118, 0.22204031941433922, 0.08103021340522454, 0.01990400808942705, 5.645437828327715e-07, 0.0020423357033780842, 0.01562972445456512, 0.03503967792792695, 0.05699707443447055, 0.07944925577646766, 0.10100373761405845, 0.12072176084059705, 0.1380406494521289, 0.1527172752824566, 0.16476335229236172, 0.17437307837798233, 0.181852089490671, 0.1875504664354275, 0.19185075758459336, 0.1949734487456305, 0.19726766479060553, 0.2010944408588088, 0.2005780519854612, 0.20134972591022127, 0.20170862387834432, 0.2021033044227758, 0.20265728821345308, 0.20271366118127432, 0.20270749736718952, 0.2028140370594641, 0.20288740076930922, 0.20293444661963478, 0.20296518082781356, 0.20298600164561953, 0.2029982819478855, 0.2030080133963229, 0.20301442194355002]\n"
     ]
    }
   ],
   "source": [
    "print(error_cobyla)"
   ]
  },
  {
   "cell_type": "code",
   "execution_count": 39,
   "id": "65df50b1-d900-44dc-90af-d3fd8688b22c",
   "metadata": {
    "tags": []
   },
   "outputs": [
    {
     "name": "stdout",
     "output_type": "stream",
     "text": [
      "[3.8461507708690594, 1.2936721348015525, 0.5343862892402644, 0.22204029538457792, 0.08103020555128171, 0.01990399316955549, 5.45988830147337e-07, 0.002042333378159178, 0.015629870223972997, 0.03503968119351031, 0.05699705504511665, 0.07944925507532008, 0.10100373619267611, 0.12072175293843435, 0.13804064747789457, 0.15271727113455924, 0.16476331154687718, 0.1743733414644254, 0.1818511460026322, 0.18754888795282176, 0.19181532031761406, 0.1949659729387958, 0.19726763277698534, 0.1989350856879345, 0.20013514406023858, 0.20099405950931604, 0.201605697402357, 0.20203903450012173, 0.20234438910466113, 0.20255829879701914, 0.20270720129749786, 0.20281015919389456, 0.20288085685489687, 0.2029290635135288, 0.20296170669090274, 0.2029836616523466, 0.20299833119887434, 0.20300807063852877, 0.2030144970171751]\n"
     ]
    }
   ],
   "source": [
    "print(error_slsqp)"
   ]
  },
  {
   "cell_type": "code",
   "execution_count": 40,
   "id": "fcb1418a-f9b5-4049-85fe-7e951e6d7eb9",
   "metadata": {
    "tags": []
   },
   "outputs": [
    {
     "data": {
      "image/png": "[encoded data removed]",
      "text/plain": [
       "<Figure size 640x480 with 1 Axes>"
      ]
     },
     "metadata": {},
     "output_type": "display_data"
    }
   ],
   "source": [
    "plt.plot(distances, vqe_energies_cobyla, label=\"COBYLA\")\n",
    "ci = 0.2 * np.std(vqe_energies_cobyla) / np.mean(vqe_energies_cobyla)\n",
    "plt.fill_between(distances, (vqe_energies_cobyla-ci), (vqe_energies_cobyla+ci), color='blue', alpha=0.1)\n",
    "\n",
    "plt.plot(distances, vqe_energies_spsa, label=\"SPSA\")\n",
    "ci = 0.2 * np.std(vqe_energies_spsa) / np.mean(vqe_energies_spsa)\n",
    "plt.fill_between(distances, (vqe_energies_spsa-ci), (vqe_energies_spsa+ci), color='gold', alpha=0.1)\n",
    "\n",
    "plt.plot(distances, vqe_energies_slsqp, label=\"SLSQP\")\n",
    "ci = 0.2 * np.std(vqe_energies_slsqp) / np.mean(vqe_energies_slsqp)\n",
    "plt.fill_between(distances, (vqe_energies_slsqp-ci), (vqe_energies_slsqp+ci), color='green', alpha=0.1)\n",
    "\n",
    "plt.plot(distances, vqe_energies_nft, label=\"NFT\")\n",
    "ci = 0.2 * np.std(vqe_energies_nft) / np.mean(vqe_energies_nft)\n",
    "plt.fill_between(distances, (vqe_energies_nft-ci), (vqe_energies_nft+ci), color='red', alpha=0.1)\n",
    "\n",
    "plt.plot(distances, vqe_energies_bfgs, label=\"L_BFGS_B\")\n",
    "ci = 0.2 * np.std(vqe_energies_bfgs) / np.mean(vqe_energies_bfgs)\n",
    "plt.fill_between(distances, (vqe_energies_bfgs-ci), (vqe_energies_bfgs+ci), color='purple', alpha=0.1)\n",
    "#plt.ylim(0,0.000000000001)\n",
    "plt.xlabel(\"Atomic distance (Angstrom)\")\n",
    "plt.ylabel(\"Energy\")\n",
    "plt.legend()\n",
    "plt.savefig(\"H2_VQE_Optimizer_Comparison_Noiseless.jpeg\",dpi = 300)\n",
    "plt.show()"
   ]
  },
  {
   "cell_type": "code",
   "execution_count": null,
   "id": "f42fbda8-5e1b-413d-af2b-495f99702060",
   "metadata": {},
   "outputs": [],
   "source": []
  },
  {
   "cell_type": "code",
   "execution_count": null,
   "id": "e123f1dc-77cf-49e0-b676-acf4e628ec50",
   "metadata": {},
   "outputs": [],
   "source": []
  }
 ],
 "metadata": {
  "kernelspec": {
   "display_name": "Python 3 (ipykernel)",
   "language": "python",
   "name": "python3"
  },
  "language_info": {
   "codemirror_mode": {
    "name": "ipython",
    "version": 3
   },
   "file_extension": ".py",
   "mimetype": "text/x-python",
   "name": "python",
   "nbconvert_exporter": "python",
   "pygments_lexer": "ipython3",
   "version": "3.10.8"
  },
  "widgets": {
   "application/vnd.jupyter.widget-state+json": {
    "state": {
     "0acb8237d6054c339d57f3b9fadaed17": {
      "model_module": "@jupyter-widgets/controls",
      "model_module_version": "2.0.0",
      "model_name": "HTMLModel",
      "state": {
       "layout": "IPY_MODEL_312d79baea6e46cbb7045edd98c80a33",
       "style": "IPY_MODEL_efb8938fc2534f0d9ec244251bfe42af",
       "value": "<p style='font-family: IBM Plex Sans, Arial, Helvetica, sans-serif; font-size: 20px; font-weight: medium;'>Circuit Properties</p>"
      }
     },
     "15ab08ff5fe84ece9c9d5f2e052ac63a": {
      "model_module": "@jupyter-widgets/controls",
      "model_module_version": "2.0.0",
      "model_name": "HBoxModel",
      "state": {
       "children": [
        "IPY_MODEL_3accc9bc85274398b2e71504fccfcb9e",
        "IPY_MODEL_8e0a87fc01c1407a877b69953c8db891",
        "IPY_MODEL_f5b41da863414b83aabd976470625e6e",
        "IPY_MODEL_2fce4fb806c648f9a1c65e6035bef0a8",
        "IPY_MODEL_685df9b612934e87b79a0acc1beee5f8"
       ],
       "layout": "IPY_MODEL_40d0d3ef31334d1d9ad227289c62d0af"
      }
     },
     "2706a55f2c65429da68324b35d2286c9": {
      "model_module": "@jupyter-widgets/controls",
      "model_module_version": "2.0.0",
      "model_name": "ButtonModel",
      "state": {
       "button_style": "primary",
       "description": "Clear",
       "layout": "IPY_MODEL_73cc7eb143f14e9880e7aa18cc23ffa7",
       "style": "IPY_MODEL_562d8f96c57e48329da5775d9abed691",
       "tooltip": null
      }
     },
     "2fce4fb806c648f9a1c65e6035bef0a8": {
      "model_module": "@jupyter-widgets/controls",
      "model_module_version": "2.0.0",
      "model_name": "HTMLModel",
      "state": {
       "layout": "IPY_MODEL_6126de50cc8a4115b54ce3e4fab88179",
       "style": "IPY_MODEL_79b0cf0cf2a24ccfa3834a1c0a391869",
       "value": "<h5>Queue</h5>"
      }
     },
     "312d79baea6e46cbb7045edd98c80a33": {
      "model_module": "@jupyter-widgets/base",
      "model_module_version": "2.0.0",
      "model_name": "LayoutModel",
      "state": {
       "margin": "0px 0px 10px 0px"
      }
     },
     "3accc9bc85274398b2e71504fccfcb9e": {
      "model_module": "@jupyter-widgets/controls",
      "model_module_version": "2.0.0",
      "model_name": "HTMLModel",
      "state": {
       "layout": "IPY_MODEL_ee06a1e0c20349219566ce08bf4d00a4",
       "style": "IPY_MODEL_c26b9ace51454b3ea39c50bb1655d642",
       "value": "<h5>Job ID</h5>"
      }
     },
     "40d0d3ef31334d1d9ad227289c62d0af": {
      "model_module": "@jupyter-widgets/base",
      "model_module_version": "2.0.0",
      "model_name": "LayoutModel",
      "state": {
       "margin": "0px 0px 0px 37px",
       "width": "600px"
      }
     },
     "562d8f96c57e48329da5775d9abed691": {
      "model_module": "@jupyter-widgets/controls",
      "model_module_version": "2.0.0",
      "model_name": "ButtonStyleModel",
      "state": {
       "font_family": null,
       "font_size": null,
       "font_style": null,
       "font_variant": null,
       "font_weight": null,
       "text_color": null,
       "text_decoration": null
      }
     },
     "5963876255e4457c96f39b6b2ce8bf8e": {
      "model_module": "@jupyter-widgets/controls",
      "model_module_version": "2.0.0",
      "model_name": "HTMLStyleModel",
      "state": {
       "description_width": "",
       "font_size": null,
       "text_color": null
      }
     },
     "6126de50cc8a4115b54ce3e4fab88179": {
      "model_module": "@jupyter-widgets/base",
      "model_module_version": "2.0.0",
      "model_name": "LayoutModel",
      "state": {
       "width": "70px"
      }
     },
     "685df9b612934e87b79a0acc1beee5f8": {
      "model_module": "@jupyter-widgets/controls",
      "model_module_version": "2.0.0",
      "model_name": "HTMLModel",
      "state": {
       "layout": "IPY_MODEL_ab0fe9bc4b7f48bf9ecc640f7bf4f929",
       "style": "IPY_MODEL_c5130076527a49f59a9bd634b1c86f2f",
       "value": "<h5>Message</h5>"
      }
     },
     "73cc7eb143f14e9880e7aa18cc23ffa7": {
      "model_module": "@jupyter-widgets/base",
      "model_module_version": "2.0.0",
      "model_name": "LayoutModel",
      "state": {
       "grid_area": "right",
       "padding": "0px 0px 0px 0px",
       "width": "70px"
      }
     },
     "79b0cf0cf2a24ccfa3834a1c0a391869": {
      "model_module": "@jupyter-widgets/controls",
      "model_module_version": "2.0.0",
      "model_name": "HTMLStyleModel",
      "state": {
       "description_width": "",
       "font_size": null,
       "text_color": null
      }
     },
     "7f02476626a44a7e9772a7b634b3c565": {
      "model_module": "@jupyter-widgets/base",
      "model_module_version": "2.0.0",
      "model_name": "LayoutModel",
      "state": {
       "grid_template_areas": "\n                                       \". . . . right \"\n                                        ",
       "grid_template_columns": "20% 20% 20% 20% 20%",
       "width": "100%"
      }
     },
     "8e0a87fc01c1407a877b69953c8db891": {
      "model_module": "@jupyter-widgets/controls",
      "model_module_version": "2.0.0",
      "model_name": "HTMLModel",
      "state": {
       "layout": "IPY_MODEL_aa03423702594c85bc070f6f9a2497b6",
       "style": "IPY_MODEL_5963876255e4457c96f39b6b2ce8bf8e",
       "value": "<h5>Backend</h5>"
      }
     },
     "a931721341934b33852967334fe00865": {
      "model_module": "@jupyter-widgets/controls",
      "model_module_version": "2.0.0",
      "model_name": "GridBoxModel",
      "state": {
       "children": [
        "IPY_MODEL_2706a55f2c65429da68324b35d2286c9"
       ],
       "layout": "IPY_MODEL_7f02476626a44a7e9772a7b634b3c565"
      }
     },
     "aa03423702594c85bc070f6f9a2497b6": {
      "model_module": "@jupyter-widgets/base",
      "model_module_version": "2.0.0",
      "model_name": "LayoutModel",
      "state": {
       "width": "145px"
      }
     },
     "ab0fe9bc4b7f48bf9ecc640f7bf4f929": {
      "model_module": "@jupyter-widgets/base",
      "model_module_version": "2.0.0",
      "model_name": "LayoutModel",
      "state": {}
     },
     "aec16f2bb9044c3bbd80cdd1f4cb4f74": {
      "model_module": "@jupyter-widgets/controls",
      "model_module_version": "2.0.0",
      "model_name": "HTMLStyleModel",
      "state": {
       "description_width": "",
       "font_size": null,
       "text_color": null
      }
     },
     "c26b9ace51454b3ea39c50bb1655d642": {
      "model_module": "@jupyter-widgets/controls",
      "model_module_version": "2.0.0",
      "model_name": "HTMLStyleModel",
      "state": {
       "description_width": "",
       "font_size": null,
       "text_color": null
      }
     },
     "c5130076527a49f59a9bd634b1c86f2f": {
      "model_module": "@jupyter-widgets/controls",
      "model_module_version": "2.0.0",
      "model_name": "HTMLStyleModel",
      "state": {
       "description_width": "",
       "font_size": null,
       "text_color": null
      }
     },
     "c5e31bb845cd47c880f6314b95238b66": {
      "model_module": "@jupyter-widgets/base",
      "model_module_version": "2.0.0",
      "model_name": "LayoutModel",
      "state": {
       "width": "95px"
      }
     },
     "ee06a1e0c20349219566ce08bf4d00a4": {
      "model_module": "@jupyter-widgets/base",
      "model_module_version": "2.0.0",
      "model_name": "LayoutModel",
      "state": {
       "width": "190px"
      }
     },
     "efb8938fc2534f0d9ec244251bfe42af": {
      "model_module": "@jupyter-widgets/controls",
      "model_module_version": "2.0.0",
      "model_name": "HTMLStyleModel",
      "state": {
       "description_width": "",
       "font_size": null,
       "text_color": null
      }
     },
     "f5b41da863414b83aabd976470625e6e": {
      "model_module": "@jupyter-widgets/controls",
      "model_module_version": "2.0.0",
      "model_name": "HTMLModel",
      "state": {
       "layout": "IPY_MODEL_c5e31bb845cd47c880f6314b95238b66",
       "style": "IPY_MODEL_aec16f2bb9044c3bbd80cdd1f4cb4f74",
       "value": "<h5>Status</h5>"
      }
     }
    },
    "version_major": 2,
    "version_minor": 0
   }
  }
 },
 "nbformat": 4,
 "nbformat_minor": 5
}

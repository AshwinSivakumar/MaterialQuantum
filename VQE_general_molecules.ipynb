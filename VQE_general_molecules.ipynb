{
 "cells": [
  {
   "cell_type": "code",
   "execution_count": 1,
   "id": "153f0e1f-dcbe-4e67-85fa-617261d3aadc",
   "metadata": {
    "tags": []
   },
   "outputs": [],
   "source": [
    "# Importing standard Qiskit libraries\n",
    "from qiskit import QuantumCircuit, transpile\n",
    "from qiskit.tools.jupyter import *\n",
    "from qiskit.visualization import *\n",
    "from ibm_quantum_widgets import *\n",
    "\n",
    "# qiskit-ibmq-provider has been deprecated.\n",
    "# Please see the Migration Guides in https://ibm.biz/provider_migration_guide for more detail.\n",
    "from qiskit_ibm_runtime import QiskitRuntimeService, Sampler, Estimator, Session, Options\n",
    "\n",
    "# Loading your IBM Quantum account(s)\n",
    "service = QiskitRuntimeService(channel=\"ibm_quantum\")\n",
    "\n",
    "# Invoke a primitive. For more details see https://qiskit.org/documentation/partners/qiskit_ibm_runtime/tutorials.html\n",
    "# result = Sampler(\"ibmq_qasm_simulator\").run(circuits).result()"
   ]
  },
  {
   "cell_type": "code",
   "execution_count": null,
   "id": "6b41a92d-115f-4dba-b15d-9d4756eb4cba",
   "metadata": {
    "tags": []
   },
   "outputs": [
    {
     "name": "stdout",
     "output_type": "stream",
     "text": [
      "Interatomic Distance: 0.3 VQE Result: -2050.52662\n"
     ]
    },
    {
     "name": "stderr",
     "output_type": "stream",
     "text": [
      "/opt/conda/lib/python3.10/site-packages/scipy/optimize/_optimize.py:284: RuntimeWarning: Values in x were outside bounds during a minimize step, clipping to bounds\n",
      "  warnings.warn(\"Values in x were outside bounds during a \"\n"
     ]
    },
    {
     "name": "stdout",
     "output_type": "stream",
     "text": [
      "Interatomic Distance: 0.4 VQE Result: -2267.13827\n",
      "Interatomic Distance: 0.5 VQE Result: -2300.61866\n",
      "Interatomic Distance: 0.6 VQE Result: -2089.40597\n",
      "Interatomic Distance: 0.7 VQE Result: -2326.58609\n",
      "Interatomic Distance: 0.8 VQE Result: -2331.20135\n",
      "Interatomic Distance: 0.9 VQE Result: -2333.58286\n",
      "Interatomic Distance: 1.0 VQE Result: -2334.90513\n"
     ]
    }
   ],
   "source": [
    "#Imports\n",
    "import numpy as np\n",
    "from qiskit.tools.jupyter import *\n",
    "from qiskit_nature.units import DistanceUnit\n",
    "from qiskit_nature.second_q.drivers import PySCFDriver\n",
    "from qiskit_nature.second_q.transformers import ActiveSpaceTransformer\n",
    "from qiskit_nature import settings\n",
    "settings.use_pauli_sum_op = False\n",
    "from qiskit.algorithms.minimum_eigensolvers import VQE\n",
    "from qiskit.algorithms.optimizers import SLSQP\n",
    "from qiskit.primitives import Estimator\n",
    "from qiskit_nature.second_q.circuit.library import HartreeFock\n",
    "from qiskit_nature.second_q.mappers import ParityMapper\n",
    "from qiskit_nature.second_q.algorithms import GroundStateEigensolver\n",
    "from qiskit.primitives import Estimator\n",
    "from qiskit.circuit.library import EfficientSU2\n",
    "\n",
    "def get_driver(dist):\n",
    "    # Define driver for BeH2 Molecule\n",
    "    driver = PySCFDriver(\n",
    "        atom=f\"Si 0 0 0; Ge 0 0 {dist}\",\n",
    "        basis=\"sto3g\",\n",
    "        charge=0,\n",
    "        spin=0,\n",
    "        unit=DistanceUnit.ANGSTROM,\n",
    "    )\n",
    "    return driver\n",
    "\n",
    "def transform(problem):\n",
    "    # specify active space transformation\n",
    "    active_space_trafo = ActiveSpaceTransformer(\n",
    "    num_electrons=problem.num_particles, num_spatial_orbitals=5  # Updated to appropriate number of spatial orbitals for fluorine\n",
    "    )\n",
    "\n",
    "    # Transform the electronic structure problem\n",
    "    problem = active_space_trafo.transform(problem)\n",
    "    return problem\n",
    "\n",
    "def get_ansatz(problem, mapper):\n",
    "    q_op = mapper.map(problem.second_q_ops()[0])\n",
    "    num_qubits = q_op.num_qubits\n",
    "    ansatz = EfficientSU2(\n",
    "        num_qubits = num_qubits, \n",
    "        reps = 1, \n",
    "        entanglement = \"linear\", \n",
    "        insert_barriers=True\n",
    "    )\n",
    "\n",
    "    return ansatz\n",
    "def vqe_solver(problem,q_op,mapper):\n",
    "    # Define the VQE solver\n",
    "    vqe = VQE(\n",
    "        estimator = Estimator(), \n",
    "        ansatz = get_ansatz(problem,mapper), \n",
    "        optimizer = SLSQP()\n",
    "    )\n",
    "    groundstate_solver = GroundStateEigensolver(mapper, vqe)\n",
    "    result = groundstate_solver.solve(problem)\n",
    "    return result\n",
    "\n",
    "distances = np.arange(0.3, 4.0, 0.1)\n",
    "\n",
    "vqe_energy = []\n",
    "if __name__ == '__main__':\n",
    "   for dist in distances:\n",
    "\n",
    "    # Define the problem using driver\n",
    "    problem = get_driver(dist).run()\n",
    "\n",
    "    # apply transformation\n",
    "    problem = transform(problem)\n",
    "   \n",
    "    mapper = ParityMapper(num_particles=problem.num_particles)\n",
    "    q_op = mapper.map(problem.second_q_ops()[0])\n",
    "    vqe_result = vqe_solver(problem, q_op,mapper)\n",
    "    vqe_energy.append(vqe_result.total_energies[0].real)\n",
    "    print(f\"Interatomic Distance: {np.round(dist, 2)}\", f\"VQE Result: {vqe_energy[-1]:.5f}\")"
   ]
  },
  {
   "cell_type": "code",
   "execution_count": null,
   "id": "fa2e9aed-104f-4fb0-a4ab-81fbd34fa55a",
   "metadata": {},
   "outputs": [],
   "source": []
  }
 ],
 "metadata": {
  "kernelspec": {
   "display_name": "Python 3 (ipykernel)",
   "language": "python",
   "name": "python3"
  },
  "language_info": {
   "codemirror_mode": {
    "name": "ipython",
    "version": 3
   },
   "file_extension": ".py",
   "mimetype": "text/x-python",
   "name": "python",
   "nbconvert_exporter": "python",
   "pygments_lexer": "ipython3",
   "version": "3.10.8"
  },
  "widgets": {
   "application/vnd.jupyter.widget-state+json": {
    "state": {
     "039b7d26fa4e460c86b06d9d202fbb9f": {
      "model_module": "@jupyter-widgets/controls",
      "model_module_version": "2.0.0",
      "model_name": "HTMLModel",
      "state": {
       "layout": "IPY_MODEL_5ebc76a2c66c4973b8387f56e03bafea",
       "style": "IPY_MODEL_3286dbb9f85a473eac8e96f92dd35d81",
       "value": "<h5>Message</h5>"
      }
     },
     "06a7b22c456d49dd88619a23953a9774": {
      "model_module": "@jupyter-widgets/base",
      "model_module_version": "2.0.0",
      "model_name": "LayoutModel",
      "state": {
       "width": "95px"
      }
     },
     "15065fd613c8486b9ba736ae64cd7157": {
      "model_module": "@jupyter-widgets/controls",
      "model_module_version": "2.0.0",
      "model_name": "HTMLStyleModel",
      "state": {
       "description_width": "",
       "font_size": null,
       "text_color": null
      }
     },
     "1728d9bd62694ec0b99ca728387fefe8": {
      "model_module": "@jupyter-widgets/controls",
      "model_module_version": "2.0.0",
      "model_name": "HTMLModel",
      "state": {
       "layout": "IPY_MODEL_87e91f065ca24366899d492353412775",
       "style": "IPY_MODEL_d823f4431c8c4993b87e2fec826807df",
       "value": "<h5>Queue</h5>"
      }
     },
     "1d8a051474a64d8b88cc7cae82b41aec": {
      "model_module": "@jupyter-widgets/base",
      "model_module_version": "2.0.0",
      "model_name": "LayoutModel",
      "state": {
       "grid_area": "right",
       "padding": "0px 0px 0px 0px",
       "width": "70px"
      }
     },
     "21b0063ac100438f91f7a4b7d3618d83": {
      "model_module": "@jupyter-widgets/base",
      "model_module_version": "2.0.0",
      "model_name": "LayoutModel",
      "state": {
       "width": "190px"
      }
     },
     "226f77c2c0024526874244786ce4a18a": {
      "model_module": "@jupyter-widgets/base",
      "model_module_version": "2.0.0",
      "model_name": "LayoutModel",
      "state": {
       "grid_template_areas": "\n                                       \". . . . right \"\n                                        ",
       "grid_template_columns": "20% 20% 20% 20% 20%",
       "width": "100%"
      }
     },
     "28646a69eb59498c843fefcf84bcc344": {
      "model_module": "@jupyter-widgets/controls",
      "model_module_version": "2.0.0",
      "model_name": "HBoxModel",
      "state": {
       "children": [
        "IPY_MODEL_645e688e350948838ed64ee2f617129b",
        "IPY_MODEL_75337a0384d54279a446f215ba66bce3",
        "IPY_MODEL_8bcd6c2f0d324bbda19e47fc686c5315",
        "IPY_MODEL_1728d9bd62694ec0b99ca728387fefe8",
        "IPY_MODEL_039b7d26fa4e460c86b06d9d202fbb9f"
       ],
       "layout": "IPY_MODEL_7996dcb4e08845be8d7fe6ce27b3b34c"
      }
     },
     "291e74066e4843da8951eb35ed2ebcf1": {
      "model_module": "@jupyter-widgets/controls",
      "model_module_version": "2.0.0",
      "model_name": "HTMLModel",
      "state": {
       "layout": "IPY_MODEL_3860097ba6a34b6cbad97d811714a11e",
       "style": "IPY_MODEL_15065fd613c8486b9ba736ae64cd7157",
       "value": "<p style='font-family: IBM Plex Sans, Arial, Helvetica, sans-serif; font-size: 20px; font-weight: medium;'>Circuit Properties</p>"
      }
     },
     "2c6c71a7135e49859454d5d4cdf853d0": {
      "model_module": "@jupyter-widgets/controls",
      "model_module_version": "2.0.0",
      "model_name": "HTMLStyleModel",
      "state": {
       "description_width": "",
       "font_size": null,
       "text_color": null
      }
     },
     "3286dbb9f85a473eac8e96f92dd35d81": {
      "model_module": "@jupyter-widgets/controls",
      "model_module_version": "2.0.0",
      "model_name": "HTMLStyleModel",
      "state": {
       "description_width": "",
       "font_size": null,
       "text_color": null
      }
     },
     "3860097ba6a34b6cbad97d811714a11e": {
      "model_module": "@jupyter-widgets/base",
      "model_module_version": "2.0.0",
      "model_name": "LayoutModel",
      "state": {
       "margin": "0px 0px 10px 0px"
      }
     },
     "3e2cc7d29f3440b8a81eaf9115038509": {
      "model_module": "@jupyter-widgets/controls",
      "model_module_version": "2.0.0",
      "model_name": "HTMLStyleModel",
      "state": {
       "description_width": "",
       "font_size": null,
       "text_color": null
      }
     },
     "5ebc76a2c66c4973b8387f56e03bafea": {
      "model_module": "@jupyter-widgets/base",
      "model_module_version": "2.0.0",
      "model_name": "LayoutModel",
      "state": {}
     },
     "645e688e350948838ed64ee2f617129b": {
      "model_module": "@jupyter-widgets/controls",
      "model_module_version": "2.0.0",
      "model_name": "HTMLModel",
      "state": {
       "layout": "IPY_MODEL_21b0063ac100438f91f7a4b7d3618d83",
       "style": "IPY_MODEL_3e2cc7d29f3440b8a81eaf9115038509",
       "value": "<h5>Job ID</h5>"
      }
     },
     "75337a0384d54279a446f215ba66bce3": {
      "model_module": "@jupyter-widgets/controls",
      "model_module_version": "2.0.0",
      "model_name": "HTMLModel",
      "state": {
       "layout": "IPY_MODEL_c82dcfb0bc5243f78a31197dac8e0b12",
       "style": "IPY_MODEL_c0e21f56180245c1ab8a0e75a4c2d1c5",
       "value": "<h5>Backend</h5>"
      }
     },
     "7996dcb4e08845be8d7fe6ce27b3b34c": {
      "model_module": "@jupyter-widgets/base",
      "model_module_version": "2.0.0",
      "model_name": "LayoutModel",
      "state": {
       "margin": "0px 0px 0px 37px",
       "width": "600px"
      }
     },
     "7dfa37ccc023410d92365e82efca00d2": {
      "model_module": "@jupyter-widgets/controls",
      "model_module_version": "2.0.0",
      "model_name": "GridBoxModel",
      "state": {
       "children": [
        "IPY_MODEL_81f62186bfff4e84948c707596c65079"
       ],
       "layout": "IPY_MODEL_226f77c2c0024526874244786ce4a18a"
      }
     },
     "81f62186bfff4e84948c707596c65079": {
      "model_module": "@jupyter-widgets/controls",
      "model_module_version": "2.0.0",
      "model_name": "ButtonModel",
      "state": {
       "button_style": "primary",
       "description": "Clear",
       "layout": "IPY_MODEL_1d8a051474a64d8b88cc7cae82b41aec",
       "style": "IPY_MODEL_f891a1d9a1484d01937596fbc353b3b8",
       "tooltip": null
      }
     },
     "87e91f065ca24366899d492353412775": {
      "model_module": "@jupyter-widgets/base",
      "model_module_version": "2.0.0",
      "model_name": "LayoutModel",
      "state": {
       "width": "70px"
      }
     },
     "8bcd6c2f0d324bbda19e47fc686c5315": {
      "model_module": "@jupyter-widgets/controls",
      "model_module_version": "2.0.0",
      "model_name": "HTMLModel",
      "state": {
       "layout": "IPY_MODEL_06a7b22c456d49dd88619a23953a9774",
       "style": "IPY_MODEL_2c6c71a7135e49859454d5d4cdf853d0",
       "value": "<h5>Status</h5>"
      }
     },
     "c0e21f56180245c1ab8a0e75a4c2d1c5": {
      "model_module": "@jupyter-widgets/controls",
      "model_module_version": "2.0.0",
      "model_name": "HTMLStyleModel",
      "state": {
       "description_width": "",
       "font_size": null,
       "text_color": null
      }
     },
     "c82dcfb0bc5243f78a31197dac8e0b12": {
      "model_module": "@jupyter-widgets/base",
      "model_module_version": "2.0.0",
      "model_name": "LayoutModel",
      "state": {
       "width": "145px"
      }
     },
     "d823f4431c8c4993b87e2fec826807df": {
      "model_module": "@jupyter-widgets/controls",
      "model_module_version": "2.0.0",
      "model_name": "HTMLStyleModel",
      "state": {
       "description_width": "",
       "font_size": null,
       "text_color": null
      }
     },
     "f891a1d9a1484d01937596fbc353b3b8": {
      "model_module": "@jupyter-widgets/controls",
      "model_module_version": "2.0.0",
      "model_name": "ButtonStyleModel",
      "state": {
       "font_family": null,
       "font_size": null,
       "font_style": null,
       "font_variant": null,
       "font_weight": null,
       "text_color": null,
       "text_decoration": null
      }
     }
    },
    "version_major": 2,
    "version_minor": 0
   }
  }
 },
 "nbformat": 4,
 "nbformat_minor": 5
}

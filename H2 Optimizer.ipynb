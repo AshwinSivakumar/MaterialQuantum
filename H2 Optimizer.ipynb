{
 "cells": [
  {
   "cell_type": "code",
   "execution_count": 47,
   "id": "3fb5d07e-b6ad-4e0b-976d-6243ed9ad778",
   "metadata": {
    "tags": []
   },
   "outputs": [],
   "source": [
    "# Importing standard Qiskit libraries\n",
    "from qiskit import QuantumCircuit, transpile\n",
    "from qiskit.tools.jupyter import *\n",
    "from qiskit.visualization import *\n",
    "from ibm_quantum_widgets import *\n",
    "\n",
    "# qiskit-ibmq-provider has been deprecated.\n",
    "# Please see the Migration Guides in https://ibm.biz/provider_migration_guide for more detail.\n",
    "from qiskit_ibm_runtime import QiskitRuntimeService, Sampler, Estimator, Session, Options\n",
    "from qiskit.primitives import Estimator, Sampler\n",
    "# Loading your IBM Quantum account(s)\n",
    "service = QiskitRuntimeService(channel=\"ibm_quantum\")\n",
    "\n",
    "# Invoke a primitive. For more details see https://qiskit.org/documentation/partners/qiskit_ibm_runtime/tutorials.html\n",
    "# result = Sampler(\"ibmq_qasm_simulator\").run(circuits).result()\n",
    "import numpy as np\n",
    "import pylab\n",
    "import qiskit_nature\n",
    "from qiskit.algorithms.minimum_eigensolvers import NumPyMinimumEigensolver, VQE\n",
    "from qiskit_nature.second_q.transformers import FreezeCoreTransformer\n",
    "from qiskit_nature.second_q.formats.molecule_info import MoleculeInfo\n",
    "from qiskit_nature.second_q.mappers import ParityMapper\n",
    "from qiskit_nature.second_q.circuit.library import UCCSD, HartreeFock\n",
    "from qiskit_nature.second_q.mappers import JordanWignerMapper\n",
    "from qiskit_nature.units import DistanceUnit\n",
    "qiskit_nature.settings.use_pauli_sum_op = False\n",
    "from qiskit_nature.second_q.drivers import PySCFDriver\n",
    "import matplotlib.pyplot as plt\n",
    "from qiskit.circuit.library import EfficientSU2\n",
    "import numpy as np\n",
    "from qiskit.algorithms.optimizers import COBYLA, L_BFGS_B, SLSQP,SPSA,NFT\n",
    "\n",
    "from qiskit import Aer\n",
    "from qiskit.opflow import X, Z, I, Y\n",
    "from qiskit.utils import QuantumInstance, algorithm_globals\n",
    "from qiskit.algorithms import VQE, NumPyMinimumEigensolver\n",
    "from qiskit.algorithms.optimizers import COBYLA, L_BFGS_B, SLSQP,SPSA,NFT\n",
    "from qiskit.circuit.library import TwoLocal\n",
    "from qiskit.primitives import Estimator, Sampler"
   ]
  },
  {
   "cell_type": "code",
   "execution_count": 50,
   "id": "0b7cf078-3078-455e-8a1b-3a0fe88599cb",
   "metadata": {
    "tags": []
   },
   "outputs": [],
   "source": [
    "H2_parity = (-1.052373245772859 * I ^ I) + \\\n",
    "        (0.39793742484318045 * I ^ Z) + \\\n",
    "        (-0.39793742484318045 * Z ^ I) + \\\n",
    "        (-0.01128010425623538 * Z ^ Z) + \\\n",
    "        (0.18093119978423156 * X ^ X)"
   ]
  },
  {
   "cell_type": "code",
   "execution_count": 51,
   "id": "e39c2da9-8c09-4bf3-9a4b-3c47cc7e657f",
   "metadata": {
    "tags": []
   },
   "outputs": [],
   "source": [
    "H2_jw = (-0.81054798 * I^I ^ I^I) + \\\n",
    "        (-0.22575349 * I^I ^ I^Z) + \\\n",
    "        (0.17218393 * I^I ^ I^X) + \\\n",
    "        (0.12091263 * I^Z ^ I^Z) + \\\n",
    "        (0.17218393 * I^X ^ I^I) + \\\n",
    "        (0.16892754 * I^X ^ I^Z) + \\\n",
    "        (0.0452328 * Y^Y ^ Y^Y) + \\\n",
    "        (0.0452328 * X^X ^ X^X) + \\\n",
    "        (0.0452328 * Y^Y ^ X^X) + \\\n",
    "        (0.0452328 * X^X ^ Y^Y) + \\\n",
    "        (-0.22575349 * I^Z ^ I^I) + \\\n",
    "        (0.16614543 * I^Z ^ I^Z) + \\\n",
    "        (0.16614543 * I^X ^ Y^Y) + \\\n",
    "        (0.17464343 * Y^Y ^ X^X) + \\\n",
    "        (0.12091263 * I^Z ^ I^X)"
   ]
  },
  {
   "cell_type": "code",
   "execution_count": 43,
   "id": "dc600e08-4abc-4f31-b401-a1e164c65b8d",
   "metadata": {
    "tags": []
   },
   "outputs": [],
   "source": [
    "H2_taper = (-1.0410931415166242 * I) + \\\n",
    "        (-0.7958748496863586 * Z) + \\\n",
    "        (-0.18093119978423122 * X)"
   ]
  },
  {
   "cell_type": "code",
   "execution_count": 52,
   "id": "5ded40b4-0162-42c6-a3c0-bcedb82bb3be",
   "metadata": {
    "tags": []
   },
   "outputs": [],
   "source": [
    "def get_qubit_op_jw(dist):\n",
    "    # Define Molecule\n",
    "    driver = PySCFDriver(\n",
    "    atom=\"H 0 0 0; H 0 0 \"+str(dist),\n",
    "    basis=\"sto3g\",\n",
    "    charge=0,\n",
    "    spin=0,\n",
    "    unit=DistanceUnit.ANGSTROM,\n",
    "    )\n",
    "    # Get properties\n",
    "    problem = driver.run()\n",
    "\n",
    "    num_particles = problem.num_particles\n",
    "    num_spatial_orbitals = problem.num_spatial_orbitals\n",
    "    \n",
    "    mapper = JordanWignerMapper()\n",
    "    #tapered_mapper = problem.get_tapered_mapper(mapper)\n",
    "    qubit_op = mapper.map(problem.second_q_ops()[0])\n",
    "    return qubit_op, num_particles, num_spatial_orbitals, problem, mapper"
   ]
  },
  {
   "cell_type": "code",
   "execution_count": 61,
   "id": "6fb0bc02-22b0-4999-a9a7-d11d42393230",
   "metadata": {
    "tags": []
   },
   "outputs": [
    {
     "name": "stdout",
     "output_type": "stream",
     "text": [
      "Optimizer: COBYLA        "
     ]
    },
    {
     "name": "stderr",
     "output_type": "stream",
     "text": [
      "/tmp/ipykernel_6842/660259491.py:27: DeprecationWarning: The class ``qiskit.utils.quantum_instance.QuantumInstance`` is deprecated as of qiskit-terra 0.24.0. It will be removed no earlier than 3 months after the release date. For code migration guidelines, visit https://qisk.it/qi_migration.\n",
      "  quantum_instance=QuantumInstance(backend=Aer.get_backend('statevector_simulator')))\n",
      "/tmp/ipykernel_6842/660259491.py:26: DeprecationWarning: The class ``qiskit.algorithms.minimum_eigen_solvers.vqe.VQE`` is deprecated as of qiskit-terra 0.24.0. It will be removed no earlier than 3 months after the release date. Instead, use the class ``qiskit.algorithms.minimum_eigensolvers.VQE``. See https://qisk.it/algo_migration for a migration guide.\n",
      "  vqe = VQE(ansatz, optimizer, callback=store_intermediate_result,\n"
     ]
    },
    {
     "name": "stdout",
     "output_type": "stream",
     "text": [
      "Optimizer: L_BFGS_B        "
     ]
    },
    {
     "name": "stderr",
     "output_type": "stream",
     "text": [
      "/tmp/ipykernel_6842/660259491.py:27: DeprecationWarning: The class ``qiskit.utils.quantum_instance.QuantumInstance`` is deprecated as of qiskit-terra 0.24.0. It will be removed no earlier than 3 months after the release date. For code migration guidelines, visit https://qisk.it/qi_migration.\n",
      "  quantum_instance=QuantumInstance(backend=Aer.get_backend('statevector_simulator')))\n",
      "/tmp/ipykernel_6842/660259491.py:26: DeprecationWarning: The class ``qiskit.algorithms.minimum_eigen_solvers.vqe.VQE`` is deprecated as of qiskit-terra 0.24.0. It will be removed no earlier than 3 months after the release date. Instead, use the class ``qiskit.algorithms.minimum_eigensolvers.VQE``. See https://qisk.it/algo_migration for a migration guide.\n",
      "  vqe = VQE(ansatz, optimizer, callback=store_intermediate_result,\n"
     ]
    },
    {
     "name": "stdout",
     "output_type": "stream",
     "text": [
      "Optimizer: SLSQP        "
     ]
    },
    {
     "name": "stderr",
     "output_type": "stream",
     "text": [
      "/tmp/ipykernel_6842/660259491.py:27: DeprecationWarning: The class ``qiskit.utils.quantum_instance.QuantumInstance`` is deprecated as of qiskit-terra 0.24.0. It will be removed no earlier than 3 months after the release date. For code migration guidelines, visit https://qisk.it/qi_migration.\n",
      "  quantum_instance=QuantumInstance(backend=Aer.get_backend('statevector_simulator')))\n",
      "/tmp/ipykernel_6842/660259491.py:26: DeprecationWarning: The class ``qiskit.algorithms.minimum_eigen_solvers.vqe.VQE`` is deprecated as of qiskit-terra 0.24.0. It will be removed no earlier than 3 months after the release date. Instead, use the class ``qiskit.algorithms.minimum_eigensolvers.VQE``. See https://qisk.it/algo_migration for a migration guide.\n",
      "  vqe = VQE(ansatz, optimizer, callback=store_intermediate_result,\n"
     ]
    },
    {
     "name": "stdout",
     "output_type": "stream",
     "text": [
      "Optimizer: SPSA        "
     ]
    },
    {
     "name": "stderr",
     "output_type": "stream",
     "text": [
      "/tmp/ipykernel_6842/660259491.py:27: DeprecationWarning: The class ``qiskit.utils.quantum_instance.QuantumInstance`` is deprecated as of qiskit-terra 0.24.0. It will be removed no earlier than 3 months after the release date. For code migration guidelines, visit https://qisk.it/qi_migration.\n",
      "  quantum_instance=QuantumInstance(backend=Aer.get_backend('statevector_simulator')))\n",
      "/tmp/ipykernel_6842/660259491.py:26: DeprecationWarning: The class ``qiskit.algorithms.minimum_eigen_solvers.vqe.VQE`` is deprecated as of qiskit-terra 0.24.0. It will be removed no earlier than 3 months after the release date. Instead, use the class ``qiskit.algorithms.minimum_eigensolvers.VQE``. See https://qisk.it/algo_migration for a migration guide.\n",
      "  vqe = VQE(ansatz, optimizer, callback=store_intermediate_result,\n"
     ]
    },
    {
     "name": "stdout",
     "output_type": "stream",
     "text": [
      "Optimizer: NFT        "
     ]
    },
    {
     "name": "stderr",
     "output_type": "stream",
     "text": [
      "/tmp/ipykernel_6842/660259491.py:27: DeprecationWarning: The class ``qiskit.utils.quantum_instance.QuantumInstance`` is deprecated as of qiskit-terra 0.24.0. It will be removed no earlier than 3 months after the release date. For code migration guidelines, visit https://qisk.it/qi_migration.\n",
      "  quantum_instance=QuantumInstance(backend=Aer.get_backend('statevector_simulator')))\n",
      "/tmp/ipykernel_6842/660259491.py:26: DeprecationWarning: The class ``qiskit.algorithms.minimum_eigen_solvers.vqe.VQE`` is deprecated as of qiskit-terra 0.24.0. It will be removed no earlier than 3 months after the release date. Instead, use the class ``qiskit.algorithms.minimum_eigensolvers.VQE``. See https://qisk.it/algo_migration for a migration guide.\n",
      "  vqe = VQE(ansatz, optimizer, callback=store_intermediate_result,\n"
     ]
    },
    {
     "name": "stdout",
     "output_type": "stream",
     "text": [
      "Optimization complete      \n"
     ]
    }
   ],
   "source": [
    "optimizers = [COBYLA(maxiter=100), L_BFGS_B(maxiter=100), SLSQP(maxiter=100),SPSA(maxiter=100),NFT(maxiter=100)]\n",
    "converge_cnts = np.empty([len(optimizers)], dtype=object)\n",
    "converge_vals = np.empty([len(optimizers)], dtype=object)\n",
    "\n",
    "for i, optimizer in enumerate(optimizers):\n",
    "    print('\\rOptimizer: {}        '.format(type(optimizer).__name__), end='')\n",
    "    algorithm_globals.random_seed = 50\n",
    "    #ansatz = TwoLocal(rotation_blocks='ry', entanglement_blocks='cz')\n",
    "    ansatz = TwoLocal(1, rotation_blocks=['ry'],reps=0)\n",
    "    (qubit_op, num_particles, num_spatial_orbitals, problem, mapper) = get_qubit_op_jw(\n",
    "        0.735\n",
    "    )\n",
    "    '''\n",
    "    ansatz = UCCSD(\n",
    "        num_spatial_orbitals, num_particles, mapper, initial_state=init_state\n",
    "    )\n",
    "    '''\n",
    "    counts = []\n",
    "    values = []\n",
    "    def store_intermediate_result(eval_count, parameters, mean, std):\n",
    "        counts.append(eval_count)\n",
    "        values.append(mean)\n",
    "    #quantum_instance=QuantumInstance(backend=Aer.get_backend('statevector_simulator'))\n",
    "    backend=Aer.get_backend('statevector_simulator')\n",
    "    \n",
    "    vqe = VQE(ansatz, optimizer, callback=store_intermediate_result,\n",
    "            quantum_instance=QuantumInstance(backend=Aer.get_backend('statevector_simulator')))\n",
    "    result = vqe.compute_minimum_eigenvalue(operator=H2_parity)\n",
    "    converge_cnts[i] = np.asarray(counts)\n",
    "    converge_vals[i] = np.asarray(values)\n",
    "print('\\rOptimization complete      ');"
   ]
  },
  {
   "cell_type": "code",
   "execution_count": 54,
   "id": "fe9bf3eb-ae86-4ab2-bf5b-c13703db273a",
   "metadata": {
    "tags": []
   },
   "outputs": [
    {
     "data": {
      "image/png": "[encoded data removed]",
      "text/plain": [
       "<Figure size 1200x800 with 1 Axes>"
      ]
     },
     "metadata": {},
     "output_type": "display_data"
    }
   ],
   "source": [
    "pylab.rcParams['figure.figsize'] = (12, 8)\n",
    "for i, optimizer in enumerate(optimizers):\n",
    "    pylab.plot(converge_cnts[i], converge_vals[i], label=type(optimizer).__name__)\n",
    "pylab.xlabel('Eval count')\n",
    "pylab.ylabel('Energy')\n",
    "pylab.title('Energy convergence for various optimizers')\n",
    "pylab.legend(loc='upper right');"
   ]
  },
  {
   "cell_type": "code",
   "execution_count": null,
   "id": "1fbbb104-9ee1-42b6-9219-764dc7311416",
   "metadata": {},
   "outputs": [],
   "source": []
  }
 ],
 "metadata": {
  "kernelspec": {
   "display_name": "Python 3 (ipykernel)",
   "language": "python",
   "name": "python3"
  },
  "language_info": {
   "codemirror_mode": {
    "name": "ipython",
    "version": 3
   },
   "file_extension": ".py",
   "mimetype": "text/x-python",
   "name": "python",
   "nbconvert_exporter": "python",
   "pygments_lexer": "ipython3",
   "version": "3.10.8"
  },
  "widgets": {
   "application/vnd.jupyter.widget-state+json": {
    "state": {
     "0720235dfc7c4be687c289958f15518d": {
      "model_module": "@jupyter-widgets/controls",
      "model_module_version": "2.0.0",
      "model_name": "GridBoxModel",
      "state": {
       "children": [
        "IPY_MODEL_c989b9e758ce40499da37dbb776b4a93"
       ],
       "layout": "IPY_MODEL_cd7562a35f41492ba75cdf3baf911e45"
      }
     },
     "1c5097995eda4c4489290a156ab3177c": {
      "model_module": "@jupyter-widgets/base",
      "model_module_version": "2.0.0",
      "model_name": "LayoutModel",
      "state": {}
     },
     "1da0cafb2db347558bedf1b4644e6e88": {
      "model_module": "@jupyter-widgets/controls",
      "model_module_version": "2.0.0",
      "model_name": "HTMLModel",
      "state": {
       "layout": "IPY_MODEL_1c5097995eda4c4489290a156ab3177c",
       "style": "IPY_MODEL_9bd6a82ef3a24fd7b87c8da6fa9f9677",
       "value": "<h5>Message</h5>"
      }
     },
     "2bd63dd85afd4c1ca20342660a7e4fd3": {
      "model_module": "@jupyter-widgets/controls",
      "model_module_version": "2.0.0",
      "model_name": "HBoxModel",
      "state": {
       "children": [
        "IPY_MODEL_78a16a3e7e4a4c3d91c09189e6499c32",
        "IPY_MODEL_91f5613c28ce4671acafbac1e6b80ce6",
        "IPY_MODEL_9f9989d7af344ac1a3956e32563cd008",
        "IPY_MODEL_6fe92d3681fa4970bd198380aa7064c4",
        "IPY_MODEL_1da0cafb2db347558bedf1b4644e6e88"
       ],
       "layout": "IPY_MODEL_ce08a6fc80e14be8afdb8b659aa67681"
      }
     },
     "4c05fa9182b649d986ee2f6d938081f7": {
      "model_module": "@jupyter-widgets/base",
      "model_module_version": "2.0.0",
      "model_name": "LayoutModel",
      "state": {
       "grid_area": "right",
       "padding": "0px 0px 0px 0px",
       "width": "70px"
      }
     },
     "586ac11cdf6f4d37b96a646743f25ac0": {
      "model_module": "@jupyter-widgets/controls",
      "model_module_version": "2.0.0",
      "model_name": "HTMLStyleModel",
      "state": {
       "description_width": "",
       "font_size": null,
       "text_color": null
      }
     },
     "5b7588e5056c40a8ac19cedb1e3c7a5d": {
      "model_module": "@jupyter-widgets/controls",
      "model_module_version": "2.0.0",
      "model_name": "HTMLStyleModel",
      "state": {
       "description_width": "",
       "font_size": null,
       "text_color": null
      }
     },
     "6f70e65af68b4b3da56914f971753b13": {
      "model_module": "@jupyter-widgets/controls",
      "model_module_version": "2.0.0",
      "model_name": "HTMLStyleModel",
      "state": {
       "description_width": "",
       "font_size": null,
       "text_color": null
      }
     },
     "6fe92d3681fa4970bd198380aa7064c4": {
      "model_module": "@jupyter-widgets/controls",
      "model_module_version": "2.0.0",
      "model_name": "HTMLModel",
      "state": {
       "layout": "IPY_MODEL_d4a4290ad07f4d66afb795dced431d32",
       "style": "IPY_MODEL_586ac11cdf6f4d37b96a646743f25ac0",
       "value": "<h5>Queue</h5>"
      }
     },
     "78a16a3e7e4a4c3d91c09189e6499c32": {
      "model_module": "@jupyter-widgets/controls",
      "model_module_version": "2.0.0",
      "model_name": "HTMLModel",
      "state": {
       "layout": "IPY_MODEL_a986d185b03f426e8ec9e1c7ad45350e",
       "style": "IPY_MODEL_5b7588e5056c40a8ac19cedb1e3c7a5d",
       "value": "<h5>Job ID</h5>"
      }
     },
     "91f5613c28ce4671acafbac1e6b80ce6": {
      "model_module": "@jupyter-widgets/controls",
      "model_module_version": "2.0.0",
      "model_name": "HTMLModel",
      "state": {
       "layout": "IPY_MODEL_e9d4e37ca6714422908daca50eb6cbce",
       "style": "IPY_MODEL_dbb18efefb6f4127bccce7752528f414",
       "value": "<h5>Backend</h5>"
      }
     },
     "9663c4e43b8a43a9bd5afc7b91c709e4": {
      "model_module": "@jupyter-widgets/base",
      "model_module_version": "2.0.0",
      "model_name": "LayoutModel",
      "state": {
       "margin": "0px 0px 10px 0px"
      }
     },
     "9bd6a82ef3a24fd7b87c8da6fa9f9677": {
      "model_module": "@jupyter-widgets/controls",
      "model_module_version": "2.0.0",
      "model_name": "HTMLStyleModel",
      "state": {
       "description_width": "",
       "font_size": null,
       "text_color": null
      }
     },
     "9f9989d7af344ac1a3956e32563cd008": {
      "model_module": "@jupyter-widgets/controls",
      "model_module_version": "2.0.0",
      "model_name": "HTMLModel",
      "state": {
       "layout": "IPY_MODEL_f732c658f9a64b1a9b0551a65f0a116c",
       "style": "IPY_MODEL_bc0e8c4f9c67492e8e25e47534d23d22",
       "value": "<h5>Status</h5>"
      }
     },
     "a986d185b03f426e8ec9e1c7ad45350e": {
      "model_module": "@jupyter-widgets/base",
      "model_module_version": "2.0.0",
      "model_name": "LayoutModel",
      "state": {
       "width": "190px"
      }
     },
     "bc0e8c4f9c67492e8e25e47534d23d22": {
      "model_module": "@jupyter-widgets/controls",
      "model_module_version": "2.0.0",
      "model_name": "HTMLStyleModel",
      "state": {
       "description_width": "",
       "font_size": null,
       "text_color": null
      }
     },
     "bd476954a52e4349b05fa878555b52d6": {
      "model_module": "@jupyter-widgets/controls",
      "model_module_version": "2.0.0",
      "model_name": "ButtonStyleModel",
      "state": {
       "font_family": null,
       "font_size": null,
       "font_style": null,
       "font_variant": null,
       "font_weight": null,
       "text_color": null,
       "text_decoration": null
      }
     },
     "bf0bd81e877143f3a030e47d4df3ee3a": {
      "model_module": "@jupyter-widgets/controls",
      "model_module_version": "2.0.0",
      "model_name": "HTMLModel",
      "state": {
       "layout": "IPY_MODEL_9663c4e43b8a43a9bd5afc7b91c709e4",
       "style": "IPY_MODEL_6f70e65af68b4b3da56914f971753b13",
       "value": "<p style='font-family: IBM Plex Sans, Arial, Helvetica, sans-serif; font-size: 20px; font-weight: medium;'>Circuit Properties</p>"
      }
     },
     "c989b9e758ce40499da37dbb776b4a93": {
      "model_module": "@jupyter-widgets/controls",
      "model_module_version": "2.0.0",
      "model_name": "ButtonModel",
      "state": {
       "button_style": "primary",
       "description": "Clear",
       "layout": "IPY_MODEL_4c05fa9182b649d986ee2f6d938081f7",
       "style": "IPY_MODEL_bd476954a52e4349b05fa878555b52d6",
       "tooltip": null
      }
     },
     "cd7562a35f41492ba75cdf3baf911e45": {
      "model_module": "@jupyter-widgets/base",
      "model_module_version": "2.0.0",
      "model_name": "LayoutModel",
      "state": {
       "grid_template_areas": "\n                                       \". . . . right \"\n                                        ",
       "grid_template_columns": "20% 20% 20% 20% 20%",
       "width": "100%"
      }
     },
     "ce08a6fc80e14be8afdb8b659aa67681": {
      "model_module": "@jupyter-widgets/base",
      "model_module_version": "2.0.0",
      "model_name": "LayoutModel",
      "state": {
       "margin": "0px 0px 0px 37px",
       "width": "600px"
      }
     },
     "d4a4290ad07f4d66afb795dced431d32": {
      "model_module": "@jupyter-widgets/base",
      "model_module_version": "2.0.0",
      "model_name": "LayoutModel",
      "state": {
       "width": "70px"
      }
     },
     "dbb18efefb6f4127bccce7752528f414": {
      "model_module": "@jupyter-widgets/controls",
      "model_module_version": "2.0.0",
      "model_name": "HTMLStyleModel",
      "state": {
       "description_width": "",
       "font_size": null,
       "text_color": null
      }
     },
     "e9d4e37ca6714422908daca50eb6cbce": {
      "model_module": "@jupyter-widgets/base",
      "model_module_version": "2.0.0",
      "model_name": "LayoutModel",
      "state": {
       "width": "145px"
      }
     },
     "f732c658f9a64b1a9b0551a65f0a116c": {
      "model_module": "@jupyter-widgets/base",
      "model_module_version": "2.0.0",
      "model_name": "LayoutModel",
      "state": {
       "width": "95px"
      }
     }
    },
    "version_major": 2,
    "version_minor": 0
   }
  }
 },
 "nbformat": 4,
 "nbformat_minor": 5
}

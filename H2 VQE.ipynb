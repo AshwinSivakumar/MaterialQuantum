{
 "cells": [
  {
   "cell_type": "code",
   "execution_count": 7,
   "id": "443697c7-a6df-42c8-96fc-2aee36e20338",
   "metadata": {
    "tags": []
   },
   "outputs": [],
   "source": [
    "# Importing standard Qiskit libraries\n",
    "from qiskit import QuantumCircuit, transpile\n",
    "from qiskit.tools.jupyter import *\n",
    "from qiskit.visualization import *\n",
    "from ibm_quantum_widgets import *\n",
    "\n",
    "# qiskit-ibmq-provider has been deprecated.\n",
    "# Please see the Migration Guides in https://ibm.biz/provider_migration_guide for more detail.\n",
    "from qiskit_ibm_runtime import QiskitRuntimeService, Sampler, Estimator, Session, Options\n",
    "\n",
    "# Loading your IBM Quantum account(s)\n",
    "#service = QiskitRuntimeService(channel=\"ibm_quantum\")\n",
    "\n",
    "# Invoke a primitive. For more details see https://qiskit.org/documentation/partners/qiskit_ibm_runtime/tutorials.html\n",
    "# result = Sampler(\"ibmq_qasm_simulator\").run(circuits).result()\n",
    "import qiskit_nature\n",
    "from qiskit.algorithms.minimum_eigensolvers import NumPyMinimumEigensolver, VQE\n",
    "from qiskit_nature.second_q.transformers import FreezeCoreTransformer\n",
    "from qiskit_nature.second_q.formats.molecule_info import MoleculeInfo\n",
    "from qiskit_nature.second_q.mappers import ParityMapper\n",
    "from qiskit_nature.second_q.circuit.library import UCCSD, HartreeFock\n",
    "from qiskit_nature.second_q.mappers import JordanWignerMapper\n",
    "qiskit_nature.settings.use_pauli_sum_op = False\n",
    "from qiskit_nature.second_q.drivers import PySCFDriver\n",
    "import matplotlib.pyplot as plt\n",
    "from qiskit.circuit.library import EfficientSU2\n",
    "import numpy as np\n",
    "from qiskit.algorithms.optimizers import SPSA, SLSQP, COBYLA\n",
    "from qiskit_aer.primitives import Estimator\n",
    "#from qiskit.chemistry.drivers import PySCFDriver, UnitsType, Molecule\n",
    "from qiskit.circuit.library import TwoLocal"
   ]
  },
  {
   "cell_type": "markdown",
   "id": "55bd7912-9437-42b6-a845-75a2f03a4b56",
   "metadata": {},
   "source": [
    "### Experiments to be done:\n",
    " - energy difference for same ansatz using different mapping techniques. \n",
    " - energy difference for difference ansatz, similar mapping. "
   ]
  },
  {
   "cell_type": "code",
   "execution_count": 2,
   "id": "a2d02ae8-7474-4381-9396-f47ff75b17ff",
   "metadata": {
    "tags": []
   },
   "outputs": [],
   "source": [
    "def get_qubit_op_jw(dist):\n",
    "    # Define Molecule\n",
    "    driver = PySCFDriver(\n",
    "    atom=\"H 0 0 0; H 0 0 \"+str(dist),\n",
    "    basis=\"sto3g\",\n",
    "    charge=0,\n",
    "    spin=0,\n",
    "    unit=DistanceUnit.ANGSTROM,\n",
    "    )\n",
    "    # Get properties\n",
    "    problem = driver.run()\n",
    "\n",
    "    num_particles = problem.num_particles\n",
    "    num_spatial_orbitals = problem.num_spatial_orbitals\n",
    "    \n",
    "    mapper = JordanWignerMapper()\n",
    "    #tapered_mapper = problem.get_tapered_mapper(mapper)\n",
    "    qubit_op = mapper.map(problem.second_q_ops()[0])\n",
    "    return qubit_op, num_particles, num_spatial_orbitals, problem, mapper"
   ]
  },
  {
   "cell_type": "code",
   "execution_count": 3,
   "id": "a6d0af49-1a9e-49cb-bf65-1ce7bc035315",
   "metadata": {
    "tags": []
   },
   "outputs": [],
   "source": [
    "def exact_solver_jw(qubit_op, problem):\n",
    "    sol = NumPyMinimumEigensolver().compute_minimum_eigenvalue(qubit_op)\n",
    "    result = problem.interpret(sol)\n",
    "    return result"
   ]
  },
  {
   "cell_type": "code",
   "execution_count": 9,
   "id": "400d6899-0e4d-40f6-bf88-91f498b1d063",
   "metadata": {
    "tags": []
   },
   "outputs": [
    {
     "name": "stdout",
     "output_type": "stream",
     "text": [
      "Traceback \u001b[1;36m(most recent call last)\u001b[0m:\n",
      "\u001b[0m  Cell \u001b[0;32mIn[9], line 7\u001b[0m\n",
      "    (qubit_op, num_particles, num_spatial_orbitals, problem, mapper) = get_qubit_op_jw(\u001b[0m\n",
      "\u001b[1;36m  Cell \u001b[1;32mIn[2], line 8\u001b[1;36m in \u001b[1;35mget_qubit_op_jw\u001b[1;36m\n",
      "\u001b[1;33m    unit=DistanceUnit.ANGSTROM,\u001b[1;36m\n",
      "\u001b[1;31mNameError\u001b[0m\u001b[1;31m:\u001b[0m name 'DistanceUnit' is not defined\n",
      "\n",
      "Use %tb to get the full traceback.\n"
     ]
    },
    {
     "data": {
      "text/html": [
       "\n",
       "<style>\n",
       ".button {\n",
       "  border: none;\n",
       "  color: white;\n",
       "  padding: 4px 8px;\n",
       "  text-align: center;\n",
       "  text-decoration: none;\n",
       "  display: inline-block;\n",
       "  font-size: 12px;\n",
       "  margin: 4px 2px;\n",
       "  transition-duration: 0.2s;\n",
       "  cursor: pointer;\n",
       "}\n",
       ".iqx-button {\n",
       "  background-color: #0f62fe; \n",
       "  color: white; \n",
       "}\n",
       ".iqx-button:hover {\n",
       "  background-color: #0043ce;\n",
       "  color: white;\n",
       "}\n",
       "</style>\n",
       "<a href=\"https://stackoverflow.com/search?q=NameError: name 'DistanceUnit' is not defined\" target='_blank'><button class='button iqx-button'>Search for solution online</button></a>\n"
      ],
      "text/plain": [
       "<IPython.core.display.HTML object>"
      ]
     },
     "metadata": {},
     "output_type": "display_data"
    }
   ],
   "source": [
    "distances = np.arange(0.3, 1.0, 0.01)\n",
    "exact_energies_jw = []\n",
    "vqe_energies_jw = []\n",
    "optimizer = SLSQP(maxiter=10)\n",
    "noiseless_estimator = Estimator(approximation=True)\n",
    "for dist in distances:\n",
    "    (qubit_op, num_particles, num_spatial_orbitals, problem, mapper) = get_qubit_op_jw(\n",
    "        dist\n",
    "    )\n",
    "\n",
    "    result = exact_solver_jw(qubit_op, problem)\n",
    "    exact_energies_jw.append(result.total_energies[0].real)\n",
    "    init_state = HartreeFock(num_spatial_orbitals, num_particles, mapper)\n",
    "    var_form = UCCSD(\n",
    "        num_spatial_orbitals, num_particles, mapper, initial_state=init_state\n",
    "    )\n",
    "    vqe = VQE(\n",
    "        noiseless_estimator,\n",
    "        var_form,\n",
    "        optimizer,\n",
    "        initial_point=[0] * var_form.num_parameters,\n",
    "    )\n",
    "    \n",
    "    vqe_calc = vqe.compute_minimum_eigenvalue(qubit_op)\n",
    "    vqe_result = problem.interpret(vqe_calc).total_energies[0].real\n",
    "    vqe_energies_jw.append(vqe_result)\n",
    "    print(\n",
    "        f\"Interatomic Distance: {np.round(dist, 2)}\",\n",
    "        f\"VQE Result: {vqe_result:.5f}\",\n",
    "        f\"Exact Energy: {exact_energies_jw[-1]:.5f}\",\n",
    "    )\n",
    "\n",
    "print(\"All energies have been calculated\")"
   ]
  },
  {
   "cell_type": "code",
   "execution_count": 5,
   "id": "b0037c8c-9fb1-47e2-b0e4-fe8847b992e7",
   "metadata": {
    "tags": []
   },
   "outputs": [
    {
     "name": "stdout",
     "output_type": "stream",
     "text": [
      "Interatomic Distance: 0.3 VQE Result: -0.59383\n",
      "Interatomic Distance: 0.31 VQE Result: -0.42281\n",
      "Interatomic Distance: 0.32 VQE Result: -0.61593\n",
      "Interatomic Distance: 0.33 VQE Result: -0.71501\n",
      "Interatomic Distance: 0.34 VQE Result: -0.74888\n",
      "Interatomic Distance: 0.35 VQE Result: -0.78045\n",
      "Interatomic Distance: 0.36 VQE Result: -0.80937\n",
      "Interatomic Distance: 0.37 VQE Result: -0.83605\n",
      "Interatomic Distance: 0.38 VQE Result: -0.86065\n",
      "Interatomic Distance: 0.39 VQE Result: -0.88338\n",
      "Interatomic Distance: 0.4 VQE Result: -0.90436\n",
      "Interatomic Distance: 0.41 VQE Result: -0.92374\n",
      "Interatomic Distance: 0.42 VQE Result: -0.03804\n",
      "Interatomic Distance: 0.43 VQE Result: -0.88602\n",
      "Interatomic Distance: 0.44 VQE Result: -0.97343\n",
      "Interatomic Distance: 0.45 VQE Result: -0.98751\n",
      "Interatomic Distance: 0.46 VQE Result: -0.99977\n",
      "Interatomic Distance: 0.47 VQE Result: -1.01243\n",
      "Interatomic Distance: 0.48 VQE Result: -1.02352\n",
      "Interatomic Distance: 0.49 VQE Result: -1.03366\n",
      "Interatomic Distance: 0.5 VQE Result: -1.04295\n",
      "Interatomic Distance: 0.51 VQE Result: -1.05156\n",
      "Interatomic Distance: 0.52 VQE Result: -1.05940\n",
      "Interatomic Distance: 0.53 VQE Result: -1.06656\n",
      "Interatomic Distance: 0.54 VQE Result: -1.07306\n",
      "Interatomic Distance: 0.55 VQE Result: -1.07850\n",
      "Interatomic Distance: 0.56 VQE Result: -1.06286\n",
      "Interatomic Distance: 0.57 VQE Result: -0.45485\n",
      "Interatomic Distance: 0.58 VQE Result: -1.09338\n",
      "Interatomic Distance: 0.59 VQE Result: -1.09553\n",
      "Interatomic Distance: 0.6 VQE Result: -1.10096\n",
      "Interatomic Distance: 0.61 VQE Result: -1.10422\n",
      "Interatomic Distance: 0.62 VQE Result: -1.10693\n",
      "Interatomic Distance: 0.63 VQE Result: -1.10645\n",
      "Interatomic Distance: 0.64 VQE Result: -1.10599\n",
      "Interatomic Distance: 0.65 VQE Result: -1.11299\n",
      "Interatomic Distance: 0.66 VQE Result: -1.11440\n",
      "Interatomic Distance: 0.67 VQE Result: -0.73743\n",
      "Interatomic Distance: 0.68 VQE Result: -0.58820\n",
      "Interatomic Distance: 0.69 VQE Result: -1.11694\n",
      "Interatomic Distance: 0.7 VQE Result: -1.11418\n",
      "Interatomic Distance: 0.71 VQE Result: -0.95592\n",
      "Interatomic Distance: 0.72 VQE Result: -1.11744\n",
      "Interatomic Distance: 0.73 VQE Result: -1.11718\n",
      "Interatomic Distance: 0.74 VQE Result: -1.09812\n",
      "Interatomic Distance: 0.75 VQE Result: -1.11334\n",
      "Interatomic Distance: 0.76 VQE Result: -1.07822\n",
      "Interatomic Distance: 0.77 VQE Result: -0.91130\n",
      "Interatomic Distance: 0.78 VQE Result: -0.79725\n",
      "Interatomic Distance: 0.79 VQE Result: -0.58523\n",
      "Interatomic Distance: 0.8 VQE Result: -0.59176\n",
      "Interatomic Distance: 0.81 VQE Result: -0.60197\n",
      "Interatomic Distance: 0.82 VQE Result: -0.95225\n",
      "Interatomic Distance: 0.83 VQE Result: -1.10615\n",
      "Interatomic Distance: 0.84 VQE Result: -1.10434\n",
      "Interatomic Distance: 0.85 VQE Result: -1.10249\n",
      "Interatomic Distance: 0.86 VQE Result: -0.64582\n",
      "Interatomic Distance: 0.87 VQE Result: -1.09626\n",
      "Interatomic Distance: 0.88 VQE Result: -1.09638\n",
      "Interatomic Distance: 0.89 VQE Result: -0.66127\n",
      "Interatomic Distance: 0.9 VQE Result: -1.09111\n",
      "Interatomic Distance: 0.91 VQE Result: -1.08224\n",
      "Interatomic Distance: 0.92 VQE Result: -1.07317\n",
      "Interatomic Distance: 0.93 VQE Result: -1.08472\n",
      "Interatomic Distance: 0.94 VQE Result: -1.08220\n",
      "Interatomic Distance: 0.95 VQE Result: -1.07874\n",
      "Interatomic Distance: 0.96 VQE Result: -1.07702\n",
      "Interatomic Distance: 0.97 VQE Result: -1.07390\n",
      "Interatomic Distance: 0.98 VQE Result: -0.87502\n",
      "Interatomic Distance: 0.99 VQE Result: -0.71411\n"
     ]
    }
   ],
   "source": [
    "distances = np.arange(0.3, 1.0, 0.01)\n",
    "exact_energies_jwn = []\n",
    "vqe_energies_jwn = []\n",
    "optimizer = SLSQP(maxiter=10)\n",
    "noiseless_estimator = Estimator(approximation=True)\n",
    "for dist in distances:\n",
    "    (qubit_op, num_particles, num_spatial_orbitals, problem, mapper) = get_qubit_op_jw(\n",
    "        dist\n",
    "    )\n",
    "    \n",
    "    tl_circuit = TwoLocal(1, rotation_blocks=['ry'],reps=0)\n",
    "    vqe = VQE(\n",
    "        noiseless_estimator,\n",
    "        tl_circuit,\n",
    "        optimizer,\n",
    "    )\n",
    "    vqe_calc = vqe.compute_minimum_eigenvalue(qubit_op)\n",
    "    vqe_result = problem.interpret(vqe_calc).total_energies[0].real\n",
    "    vqe_energies_jwn.append(vqe_result)\n",
    "    print(\n",
    "        f\"Interatomic Distance: {np.round(dist, 2)}\",\n",
    "        f\"VQE Result: {vqe_result:.5f}\")"
   ]
  },
  {
   "cell_type": "code",
   "execution_count": 6,
   "id": "758856d5-0df0-4a1f-a831-fea7390bcdd9",
   "metadata": {
    "tags": []
   },
   "outputs": [
    {
     "name": "stdout",
     "output_type": "stream",
     "text": [
      "Interatomic Distance: 0.3 VQE Result: -0.60180 Exact Energy: -1.10325\n",
      "Interatomic Distance: 0.31 VQE Result: -0.64584 Exact Energy: -1.10325\n",
      "Interatomic Distance: 0.32 VQE Result: -0.68628 Exact Energy: -1.10325\n",
      "Interatomic Distance: 0.33 VQE Result: -0.72317 Exact Energy: -1.10325\n",
      "Interatomic Distance: 0.34 VQE Result: -0.75671 Exact Energy: -1.10325\n",
      "Interatomic Distance: 0.35 VQE Result: -0.78925 Exact Energy: -1.10325\n",
      "Interatomic Distance: 0.36 VQE Result: -0.81837 Exact Energy: -1.10325\n",
      "Interatomic Distance: 0.37 VQE Result: -0.84523 Exact Energy: -1.10325\n",
      "Interatomic Distance: 0.38 VQE Result: -0.87004 Exact Energy: -1.10325\n",
      "Interatomic Distance: 0.39 VQE Result: -0.89296 Exact Energy: -1.10325\n",
      "Interatomic Distance: 0.4 VQE Result: -0.91415 Exact Energy: -1.10325\n",
      "Interatomic Distance: 0.41 VQE Result: -0.93348 Exact Energy: -1.10325\n",
      "Interatomic Distance: 0.42 VQE Result: -0.95185 Exact Energy: -1.10325\n",
      "Interatomic Distance: 0.43 VQE Result: -0.96861 Exact Energy: -1.10325\n",
      "Interatomic Distance: 0.44 VQE Result: -0.98403 Exact Energy: -1.10325\n",
      "Interatomic Distance: 0.45 VQE Result: -0.99840 Exact Energy: -1.10325\n",
      "Interatomic Distance: 0.46 VQE Result: -1.01165 Exact Energy: -1.10325\n",
      "Interatomic Distance: 0.47 VQE Result: -1.02387 Exact Energy: -1.10325\n",
      "Interatomic Distance: 0.48 VQE Result: -1.03516 Exact Energy: -1.10325\n",
      "Interatomic Distance: 0.49 VQE Result: -1.04557 Exact Energy: -1.10325\n",
      "Interatomic Distance: 0.5 VQE Result: -1.02572 Exact Energy: -1.10325\n",
      "Interatomic Distance: 0.51 VQE Result: -1.06399 Exact Energy: -1.10325\n",
      "Interatomic Distance: 0.52 VQE Result: -1.07198 Exact Energy: -1.10325\n",
      "Interatomic Distance: 0.53 VQE Result: -1.07955 Exact Energy: -1.10325\n",
      "Interatomic Distance: 0.54 VQE Result: -1.08639 Exact Energy: -1.10325\n",
      "Interatomic Distance: 0.55 VQE Result: -1.09224 Exact Energy: -1.10325\n",
      "Interatomic Distance: 0.56 VQE Result: 0.40436 Exact Energy: -1.10325\n",
      "Interatomic Distance: 0.57 VQE Result: -1.10230 Exact Energy: -1.10325\n",
      "Interatomic Distance: 0.58 VQE Result: -1.10821 Exact Energy: -1.10325\n",
      "Interatomic Distance: 0.59 VQE Result: -1.11246 Exact Energy: -1.10325\n",
      "Interatomic Distance: 0.6 VQE Result: -0.94026 Exact Energy: -1.10325\n",
      "Interatomic Distance: 0.61 VQE Result: -1.11971 Exact Energy: -1.10325\n",
      "Interatomic Distance: 0.62 VQE Result: -1.12277 Exact Energy: -1.10325\n",
      "Interatomic Distance: 0.63 VQE Result: -1.12547 Exact Energy: -1.10325\n",
      "Interatomic Distance: 0.64 VQE Result: -1.12784 Exact Energy: -1.10325\n",
      "Interatomic Distance: 0.65 VQE Result: -1.12990 Exact Energy: -1.10325\n",
      "Interatomic Distance: 0.66 VQE Result: -1.05697 Exact Energy: -1.10325\n",
      "Interatomic Distance: 0.67 VQE Result: -1.13317 Exact Energy: -1.10325\n",
      "Interatomic Distance: 0.68 VQE Result: -1.13442 Exact Energy: -1.10325\n",
      "Interatomic Distance: 0.69 VQE Result: -1.13542 Exact Energy: -1.10325\n",
      "Interatomic Distance: 0.7 VQE Result: -1.13619 Exact Energy: -1.10325\n",
      "Interatomic Distance: 0.71 VQE Result: -1.13675 Exact Energy: -1.10325\n",
      "Interatomic Distance: 0.72 VQE Result: -1.13711 Exact Energy: -1.10325\n",
      "Interatomic Distance: 0.73 VQE Result: -1.13729 Exact Energy: -1.10325\n",
      "Interatomic Distance: 0.74 VQE Result: -1.13728 Exact Energy: -1.10325\n",
      "Interatomic Distance: 0.75 VQE Result: -1.13712 Exact Energy: -1.10325\n",
      "Interatomic Distance: 0.76 VQE Result: -1.13680 Exact Energy: -1.10325\n",
      "Interatomic Distance: 0.77 VQE Result: -1.13633 Exact Energy: -1.10325\n",
      "Interatomic Distance: 0.78 VQE Result: -1.13573 Exact Energy: -1.10325\n",
      "Interatomic Distance: 0.79 VQE Result: -1.13483 Exact Energy: -1.10325\n",
      "Interatomic Distance: 0.8 VQE Result: -1.13415 Exact Energy: -1.10325\n",
      "Interatomic Distance: 0.81 VQE Result: -1.13319 Exact Energy: -1.10325\n",
      "Interatomic Distance: 0.82 VQE Result: -1.13212 Exact Energy: -1.10325\n",
      "Interatomic Distance: 0.83 VQE Result: -1.13094 Exact Energy: -1.10325\n",
      "Interatomic Distance: 0.84 VQE Result: -1.12970 Exact Energy: -1.10325\n",
      "Interatomic Distance: 0.85 VQE Result: -1.12836 Exact Energy: -1.10325\n",
      "Interatomic Distance: 0.86 VQE Result: -1.12694 Exact Energy: -1.10325\n",
      "Interatomic Distance: 0.87 VQE Result: -1.12545 Exact Energy: -1.10325\n",
      "Interatomic Distance: 0.88 VQE Result: -1.12388 Exact Energy: -1.10325\n",
      "Interatomic Distance: 0.89 VQE Result: -1.12225 Exact Energy: -1.10325\n",
      "Interatomic Distance: 0.9 VQE Result: -1.12056 Exact Energy: -1.10325\n",
      "Interatomic Distance: 0.91 VQE Result: -1.11881 Exact Energy: -1.10325\n",
      "Interatomic Distance: 0.92 VQE Result: -1.11701 Exact Energy: -1.10325\n",
      "Interatomic Distance: 0.93 VQE Result: -1.11517 Exact Energy: -1.10325\n",
      "Interatomic Distance: 0.94 VQE Result: -1.11327 Exact Energy: -1.10325\n",
      "Interatomic Distance: 0.95 VQE Result: -1.10996 Exact Energy: -1.10325\n",
      "Interatomic Distance: 0.96 VQE Result: -1.10716 Exact Energy: -1.10325\n",
      "Interatomic Distance: 0.97 VQE Result: -1.10736 Exact Energy: -1.10325\n",
      "Interatomic Distance: 0.98 VQE Result: -1.10508 Exact Energy: -1.10325\n",
      "Interatomic Distance: 0.99 VQE Result: -1.10324 Exact Energy: -1.10325\n"
     ]
    }
   ],
   "source": [
    "distances = np.arange(0.3, 1.0, 0.01)\n",
    "exact_energies_a = []\n",
    "vqe_energies_a = []\n",
    "optimizer = SLSQP(maxiter=10)\n",
    "noiseless_estimator = Estimator(approximation=True)\n",
    "for dist in distances:\n",
    "    (qubit_op, num_particles, num_spatial_orbitals, problem, mapper) = get_qubit_op_jw(\n",
    "        dist\n",
    "    )\n",
    "\n",
    "    result = exact_solver_jw(qubit_op, problem)\n",
    "    exact_energies_a.append(result.total_energies[0].real)\n",
    "    init_state = HartreeFock(num_spatial_orbitals, num_particles, mapper)\n",
    "    var_form = UCCSD(\n",
    "        num_spatial_orbitals, num_particles, mapper, initial_state=init_state\n",
    "    )\n",
    "    vqe = VQE(\n",
    "        noiseless_estimator,\n",
    "        var_form,\n",
    "        optimizer\n",
    "    )\n",
    "    \n",
    "    vqe_calc = vqe.compute_minimum_eigenvalue(qubit_op)\n",
    "    vqe_result = problem.interpret(vqe_calc).total_energies[0].real\n",
    "    vqe_energies_a.append(vqe_result)\n",
    "    print(\n",
    "        f\"Interatomic Distance: {np.round(dist, 2)}\",\n",
    "        f\"VQE Result: {vqe_result:.5f}\",\n",
    "        f\"Exact Energy: {exact_energies_jw[-1]:.5f}\",\n",
    "     )"
   ]
  },
  {
   "cell_type": "code",
   "execution_count": 7,
   "id": "51a5544f-2972-455f-a8af-cdf7b10719d8",
   "metadata": {
    "tags": []
   },
   "outputs": [],
   "source": [
    "def get_qubit_op_t(dist):\n",
    "    # Define Molecule\n",
    "    molecule = MoleculeInfo(\n",
    "        symbols=[\"Si\", \"H\"],\n",
    "        coords=([0.0, 0.0, 0.0], [0.0, 0.0, dist]),\n",
    "        charge=0,\n",
    "        multiplicity=1,\n",
    "    )\n",
    "\n",
    "    driver = PySCFDriver.from_molecule(molecule)\n",
    "    # Get properties\n",
    "    problem = driver.run()\n",
    "\n",
    "    num_particles = problem.num_particles\n",
    "    num_spatial_orbitals = problem.num_spatial_orbitals\n",
    "    \n",
    "    mapper = JordanWignerMapper()\n",
    "    tapered_mapper = problem.get_tapered_mapper(mapper)\n",
    "    qubit_op = tapered_mapper.map(problem.second_q_ops()[0])\n",
    "    return qubit_op, num_particles, num_spatial_orbitals, problem, mapper\n",
    "\n",
    "def exact_solver_t(qubit_op, problem):\n",
    "    sol = NumPyMinimumEigensolver().compute_minimum_eigenvalue(qubit_op)\n",
    "    result = problem.interpret(sol)\n",
    "    return result"
   ]
  },
  {
   "cell_type": "code",
   "execution_count": 8,
   "id": "60efdd20-91e6-402a-913b-7c94c4e07686",
   "metadata": {
    "tags": []
   },
   "outputs": [
    {
     "name": "stdout",
     "output_type": "stream",
     "text": [
      "Interatomic Distance: 0.3 VQE Result: -0.60180\n",
      "Interatomic Distance: 0.31 VQE Result: -0.64584\n",
      "Interatomic Distance: 0.32 VQE Result: -0.68628\n",
      "Interatomic Distance: 0.33 VQE Result: -0.72347\n",
      "Interatomic Distance: 0.34 VQE Result: -0.75771\n",
      "Interatomic Distance: 0.35 VQE Result: -0.78927\n",
      "Interatomic Distance: 0.36 VQE Result: -0.81837\n",
      "Interatomic Distance: 0.37 VQE Result: -0.84523\n",
      "Interatomic Distance: 0.38 VQE Result: -0.87004\n",
      "Interatomic Distance: 0.39 VQE Result: -0.89296\n",
      "Interatomic Distance: 0.4 VQE Result: -0.91415\n",
      "Interatomic Distance: 0.41 VQE Result: -0.93374\n",
      "Interatomic Distance: 0.42 VQE Result: -0.95185\n",
      "Interatomic Distance: 0.43 VQE Result: -0.96861\n",
      "Interatomic Distance: 0.44 VQE Result: -0.98410\n",
      "Interatomic Distance: 0.45 VQE Result: -0.99842\n",
      "Interatomic Distance: 0.46 VQE Result: -1.01165\n",
      "Interatomic Distance: 0.47 VQE Result: -1.02387\n",
      "Interatomic Distance: 0.48 VQE Result: -1.03516\n",
      "Interatomic Distance: 0.49 VQE Result: -1.04557\n",
      "Interatomic Distance: 0.5 VQE Result: -1.05516\n",
      "Interatomic Distance: 0.51 VQE Result: -1.06399\n",
      "Interatomic Distance: 0.52 VQE Result: -1.07211\n",
      "Interatomic Distance: 0.53 VQE Result: -1.07956\n",
      "Interatomic Distance: 0.54 VQE Result: -1.08639\n",
      "Interatomic Distance: 0.55 VQE Result: -1.09263\n",
      "Interatomic Distance: 0.56 VQE Result: -1.09833\n",
      "Interatomic Distance: 0.57 VQE Result: -1.10351\n",
      "Interatomic Distance: 0.58 VQE Result: -1.10821\n",
      "Interatomic Distance: 0.59 VQE Result: -1.11246\n",
      "Interatomic Distance: 0.6 VQE Result: -1.11629\n",
      "Interatomic Distance: 0.61 VQE Result: -1.11971\n",
      "Interatomic Distance: 0.62 VQE Result: -1.12277\n",
      "Interatomic Distance: 0.63 VQE Result: -1.12547\n",
      "Interatomic Distance: 0.64 VQE Result: -1.12784\n",
      "Interatomic Distance: 0.65 VQE Result: -1.12990\n",
      "Interatomic Distance: 0.66 VQE Result: -1.13168\n",
      "Interatomic Distance: 0.67 VQE Result: -1.13317\n",
      "Interatomic Distance: 0.68 VQE Result: -1.13442\n",
      "Interatomic Distance: 0.69 VQE Result: -1.13542\n",
      "Interatomic Distance: 0.7 VQE Result: -1.13619\n",
      "Interatomic Distance: 0.71 VQE Result: -1.13675\n",
      "Interatomic Distance: 0.72 VQE Result: -1.13711\n",
      "Interatomic Distance: 0.73 VQE Result: -1.13729\n",
      "Interatomic Distance: 0.74 VQE Result: -1.13728\n",
      "Interatomic Distance: 0.75 VQE Result: -1.13712\n",
      "Interatomic Distance: 0.76 VQE Result: -1.13680\n",
      "Interatomic Distance: 0.77 VQE Result: -1.13633\n",
      "Interatomic Distance: 0.78 VQE Result: -1.13573\n",
      "Interatomic Distance: 0.79 VQE Result: -1.13500\n",
      "Interatomic Distance: 0.8 VQE Result: -1.13415\n",
      "Interatomic Distance: 0.81 VQE Result: -1.13319\n",
      "Interatomic Distance: 0.82 VQE Result: -1.13212\n",
      "Interatomic Distance: 0.83 VQE Result: -1.13096\n",
      "Interatomic Distance: 0.84 VQE Result: -1.12970\n",
      "Interatomic Distance: 0.85 VQE Result: -1.12836\n",
      "Interatomic Distance: 0.86 VQE Result: -1.12694\n",
      "Interatomic Distance: 0.87 VQE Result: -1.12545\n",
      "Interatomic Distance: 0.88 VQE Result: -1.12388\n",
      "Interatomic Distance: 0.89 VQE Result: -1.12225\n",
      "Interatomic Distance: 0.9 VQE Result: -1.12056\n",
      "Interatomic Distance: 0.91 VQE Result: -1.11881\n",
      "Interatomic Distance: 0.92 VQE Result: -1.11701\n",
      "Interatomic Distance: 0.93 VQE Result: -1.11517\n",
      "Interatomic Distance: 0.94 VQE Result: -1.11327\n",
      "Interatomic Distance: 0.95 VQE Result: -1.11134\n",
      "Interatomic Distance: 0.96 VQE Result: -1.10937\n",
      "Interatomic Distance: 0.97 VQE Result: -1.10736\n",
      "Interatomic Distance: 0.98 VQE Result: -1.10532\n",
      "Interatomic Distance: 0.99 VQE Result: -1.10325\n"
     ]
    }
   ],
   "source": [
    "distances = np.arange(0.3, 1.0, 0.01)\n",
    "exact_energies_t = []\n",
    "vqe_energies_t = []\n",
    "optimizer = SLSQP(maxiter=10)\n",
    "noiseless_estimator = Estimator(approximation=True)\n",
    "for dist in distances:\n",
    "    (qubit_op, num_particles, num_spatial_orbitals, problem, mapper) = get_qubit_op_t(\n",
    "        dist\n",
    "    )\n",
    "    \n",
    "    tl_circuit = TwoLocal(1, rotation_blocks=['ry'],reps=0)\n",
    "    vqe = VQE(\n",
    "        noiseless_estimator,\n",
    "        tl_circuit,\n",
    "        optimizer,\n",
    "    )\n",
    "    vqe_calc = vqe.compute_minimum_eigenvalue(qubit_op)\n",
    "    vqe_result = problem.interpret(vqe_calc).total_energies[0].real\n",
    "    vqe_energies_t.append(vqe_result)\n",
    "    print(\n",
    "        f\"Interatomic Distance: {np.round(dist, 2)}\",\n",
    "        f\"VQE Result: {vqe_result:.5f}\")"
   ]
  },
  {
   "cell_type": "code",
   "execution_count": 9,
   "id": "4da92b85-7dbc-4f87-8d6e-a5847664fa74",
   "metadata": {
    "tags": []
   },
   "outputs": [],
   "source": [
    "def exact_solver_n(qubit_op, problem):\n",
    "    sol = NumPyMinimumEigensolver().compute_minimum_eigenvalue(qubit_op)\n",
    "    result = problem.interpret(sol)\n",
    "    return result"
   ]
  },
  {
   "cell_type": "code",
   "execution_count": 10,
   "id": "c62a368f-6542-45cf-a74b-ae0ea5b2d7f5",
   "metadata": {
    "tags": []
   },
   "outputs": [],
   "source": [
    "distances = np.arange(0.3, 1.0, 0.01)\n",
    "exact_energies_n = []\n",
    "optimizer = SLSQP(maxiter=10)\n",
    "noiseless_estimator = Estimator(approximation=True)\n",
    "for dist in distances:\n",
    "    (qubit_op, num_particles, num_spatial_orbitals, problem, mapper) = get_qubit_op_jw(\n",
    "        dist\n",
    "    )\n",
    "\n",
    "    result = exact_solver_n(qubit_op, problem)\n",
    "    exact_energies_n.append(result.electronic_energies[0].real)"
   ]
  },
  {
   "cell_type": "code",
   "execution_count": 12,
   "id": "7e1831f7-67ae-499b-b52c-d05dd23d46f0",
   "metadata": {
    "tags": []
   },
   "outputs": [
    {
     "data": {
      "image/png": "[encoded data removed]",
      "text/plain": [
       "<Figure size 640x480 with 1 Axes>"
      ]
     },
     "metadata": {},
     "output_type": "display_data"
    }
   ],
   "source": [
    "plt.plot(distances, exact_energies_jw, label=\"Exact Energy\")\n",
    "plt.plot(distances, vqe_energies_jw, label=\"VQE Energy\")\n",
    "plt.plot(distances, vqe_energies_jwn, label=\"Single Qubit Ansatz (Jordan-Wigner Mapping)\")\n",
    "plt.plot(distances, vqe_energies_t, label=\"Single Qubit Ansatz (Tapered Mapping)\")\n",
    "#plt.plot(distances, exact_energies_n, label=\"Exact Electronic energies\")\n",
    "plt.xlabel(\"Atomic distance (Angstrom)\")\n",
    "plt.ylabel(\"Energy\")\n",
    "plt.legend()\n",
    "plt.show()"
   ]
  },
  {
   "cell_type": "code",
   "execution_count": null,
   "id": "daff66e0-178b-443d-96ec-552d36af77c2",
   "metadata": {},
   "outputs": [],
   "source": []
  }
 ],
 "metadata": {
  "kernelspec": {
   "display_name": "Python 3 (ipykernel)",
   "language": "python",
   "name": "python3"
  },
  "language_info": {
   "codemirror_mode": {
    "name": "ipython",
    "version": 3
   },
   "file_extension": ".py",
   "mimetype": "text/x-python",
   "name": "python",
   "nbconvert_exporter": "python",
   "pygments_lexer": "ipython3",
   "version": "3.10.8"
  },
  "widgets": {
   "application/vnd.jupyter.widget-state+json": {
    "state": {
     "0422b02c037d47369e044dc5f489bdc7": {
      "model_module": "@jupyter-widgets/controls",
      "model_module_version": "2.0.0",
      "model_name": "HTMLModel",
      "state": {
       "layout": "IPY_MODEL_29bcf29c5dd14a7896695574a113da01",
       "style": "IPY_MODEL_a889c48974a64a3fba500918a032b546",
       "value": "<h5>Job ID</h5>"
      }
     },
     "0f457e203b7f4707808e6787437add1a": {
      "model_module": "@jupyter-widgets/controls",
      "model_module_version": "2.0.0",
      "model_name": "HTMLModel",
      "state": {
       "layout": "IPY_MODEL_c6e29742edbd4d0bbf159926ab1c8c68",
       "style": "IPY_MODEL_345346bd8b664d8bbfdcd033b17c603e",
       "value": "<h5>Queue</h5>"
      }
     },
     "14102166eb0a4bd48777b0142561cf1f": {
      "model_module": "@jupyter-widgets/controls",
      "model_module_version": "2.0.0",
      "model_name": "HBoxModel",
      "state": {
       "children": [
        "IPY_MODEL_0422b02c037d47369e044dc5f489bdc7",
        "IPY_MODEL_dd514d4831b74ff7b7006964fa85d791",
        "IPY_MODEL_7edbe39ced634b54ac3ab70552687aa8",
        "IPY_MODEL_0f457e203b7f4707808e6787437add1a",
        "IPY_MODEL_6033c7ccaf304427adc2c06a1683defe"
       ],
       "layout": "IPY_MODEL_1f8781bedf354a05925a30029d55b6dd"
      }
     },
     "170dba38eca149fb881e54b5f787b686": {
      "model_module": "@jupyter-widgets/controls",
      "model_module_version": "2.0.0",
      "model_name": "GridBoxModel",
      "state": {
       "children": [
        "IPY_MODEL_349669c6b7ab486281e2e843dad452ce"
       ],
       "layout": "IPY_MODEL_cc760a14c3df4d4a8323c54688873ee7"
      }
     },
     "1f64a64886664781a2315cc369d73de5": {
      "model_module": "@jupyter-widgets/controls",
      "model_module_version": "2.0.0",
      "model_name": "HTMLModel",
      "state": {
       "layout": "IPY_MODEL_96488d5a8e964fa9bcb3cd60187c9471",
       "style": "IPY_MODEL_5f3c82756bbb43828329ae6fc6f3f1d6",
       "value": "<p style='font-family: IBM Plex Sans, Arial, Helvetica, sans-serif; font-size: 20px; font-weight: medium;'>Circuit Properties</p>"
      }
     },
     "1f8781bedf354a05925a30029d55b6dd": {
      "model_module": "@jupyter-widgets/base",
      "model_module_version": "2.0.0",
      "model_name": "LayoutModel",
      "state": {
       "margin": "0px 0px 0px 37px",
       "width": "600px"
      }
     },
     "29bcf29c5dd14a7896695574a113da01": {
      "model_module": "@jupyter-widgets/base",
      "model_module_version": "2.0.0",
      "model_name": "LayoutModel",
      "state": {
       "width": "190px"
      }
     },
     "324d891e52f146df9065cc1038f1a302": {
      "model_module": "@jupyter-widgets/base",
      "model_module_version": "2.0.0",
      "model_name": "LayoutModel",
      "state": {
       "grid_area": "right",
       "padding": "0px 0px 0px 0px",
       "width": "70px"
      }
     },
     "33ec38e998f447248c9d26e6c601000e": {
      "model_module": "@jupyter-widgets/controls",
      "model_module_version": "2.0.0",
      "model_name": "HTMLStyleModel",
      "state": {
       "description_width": "",
       "font_size": null,
       "text_color": null
      }
     },
     "345346bd8b664d8bbfdcd033b17c603e": {
      "model_module": "@jupyter-widgets/controls",
      "model_module_version": "2.0.0",
      "model_name": "HTMLStyleModel",
      "state": {
       "description_width": "",
       "font_size": null,
       "text_color": null
      }
     },
     "349669c6b7ab486281e2e843dad452ce": {
      "model_module": "@jupyter-widgets/controls",
      "model_module_version": "2.0.0",
      "model_name": "ButtonModel",
      "state": {
       "button_style": "primary",
       "description": "Clear",
       "layout": "IPY_MODEL_324d891e52f146df9065cc1038f1a302",
       "style": "IPY_MODEL_c41e5a0513fc42699de4cefc16e44111",
       "tooltip": null
      }
     },
     "460c3a59684a4d508dd2684959de74b9": {
      "model_module": "@jupyter-widgets/base",
      "model_module_version": "2.0.0",
      "model_name": "LayoutModel",
      "state": {
       "width": "145px"
      }
     },
     "5f3c82756bbb43828329ae6fc6f3f1d6": {
      "model_module": "@jupyter-widgets/controls",
      "model_module_version": "2.0.0",
      "model_name": "HTMLStyleModel",
      "state": {
       "description_width": "",
       "font_size": null,
       "text_color": null
      }
     },
     "6033c7ccaf304427adc2c06a1683defe": {
      "model_module": "@jupyter-widgets/controls",
      "model_module_version": "2.0.0",
      "model_name": "HTMLModel",
      "state": {
       "layout": "IPY_MODEL_6f6b7c1bcbf742e5999e60f8c4848906",
       "style": "IPY_MODEL_79acaf16af234cff8805b29ba5e31d4b",
       "value": "<h5>Message</h5>"
      }
     },
     "6f6b7c1bcbf742e5999e60f8c4848906": {
      "model_module": "@jupyter-widgets/base",
      "model_module_version": "2.0.0",
      "model_name": "LayoutModel",
      "state": {}
     },
     "79acaf16af234cff8805b29ba5e31d4b": {
      "model_module": "@jupyter-widgets/controls",
      "model_module_version": "2.0.0",
      "model_name": "HTMLStyleModel",
      "state": {
       "description_width": "",
       "font_size": null,
       "text_color": null
      }
     },
     "7edbe39ced634b54ac3ab70552687aa8": {
      "model_module": "@jupyter-widgets/controls",
      "model_module_version": "2.0.0",
      "model_name": "HTMLModel",
      "state": {
       "layout": "IPY_MODEL_e69d32bd6fe24ea299f240f9a4615ef6",
       "style": "IPY_MODEL_cacbe7dd8bc943c5a5b16137fcc34fe1",
       "value": "<h5>Status</h5>"
      }
     },
     "96488d5a8e964fa9bcb3cd60187c9471": {
      "model_module": "@jupyter-widgets/base",
      "model_module_version": "2.0.0",
      "model_name": "LayoutModel",
      "state": {
       "margin": "0px 0px 10px 0px"
      }
     },
     "a889c48974a64a3fba500918a032b546": {
      "model_module": "@jupyter-widgets/controls",
      "model_module_version": "2.0.0",
      "model_name": "HTMLStyleModel",
      "state": {
       "description_width": "",
       "font_size": null,
       "text_color": null
      }
     },
     "c41e5a0513fc42699de4cefc16e44111": {
      "model_module": "@jupyter-widgets/controls",
      "model_module_version": "2.0.0",
      "model_name": "ButtonStyleModel",
      "state": {
       "font_family": null,
       "font_size": null,
       "font_style": null,
       "font_variant": null,
       "font_weight": null,
       "text_color": null,
       "text_decoration": null
      }
     },
     "c6e29742edbd4d0bbf159926ab1c8c68": {
      "model_module": "@jupyter-widgets/base",
      "model_module_version": "2.0.0",
      "model_name": "LayoutModel",
      "state": {
       "width": "70px"
      }
     },
     "cacbe7dd8bc943c5a5b16137fcc34fe1": {
      "model_module": "@jupyter-widgets/controls",
      "model_module_version": "2.0.0",
      "model_name": "HTMLStyleModel",
      "state": {
       "description_width": "",
       "font_size": null,
       "text_color": null
      }
     },
     "cc760a14c3df4d4a8323c54688873ee7": {
      "model_module": "@jupyter-widgets/base",
      "model_module_version": "2.0.0",
      "model_name": "LayoutModel",
      "state": {
       "grid_template_areas": "\n                                       \". . . . right \"\n                                        ",
       "grid_template_columns": "20% 20% 20% 20% 20%",
       "width": "100%"
      }
     },
     "dd514d4831b74ff7b7006964fa85d791": {
      "model_module": "@jupyter-widgets/controls",
      "model_module_version": "2.0.0",
      "model_name": "HTMLModel",
      "state": {
       "layout": "IPY_MODEL_460c3a59684a4d508dd2684959de74b9",
       "style": "IPY_MODEL_33ec38e998f447248c9d26e6c601000e",
       "value": "<h5>Backend</h5>"
      }
     },
     "e69d32bd6fe24ea299f240f9a4615ef6": {
      "model_module": "@jupyter-widgets/base",
      "model_module_version": "2.0.0",
      "model_name": "LayoutModel",
      "state": {
       "width": "95px"
      }
     }
    },
    "version_major": 2,
    "version_minor": 0
   }
  }
 },
 "nbformat": 4,
 "nbformat_minor": 5
}
